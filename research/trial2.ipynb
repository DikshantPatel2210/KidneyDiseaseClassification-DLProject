{
 "cells": [
  {
   "cell_type": "code",
   "execution_count": null,
   "id": "initial_id",
   "metadata": {
    "collapsed": true
   },
   "outputs": [],
   "source": ""
  },
  {
   "metadata": {},
   "cell_type": "code",
   "outputs": [],
   "execution_count": null,
   "source": [
    "n_conv_layers = 6\n",
    "Allfilters = []\n",
    "    Allfilters.append(trial.suggest_categorical(\"filters_0\", [32,64,128,256]))\n",
    "    for i in range(1, n_conv_layers):\n",
    "        possible_filters = [f for f in [32,64,128,256] if f>= Allfilters[-1]]\n",
    "        Allfilters.append(trial.suggest_categorical(f\"filters_{i}\", possible_filters))"
   ],
   "id": "103e483015e8af5"
  },
  {
   "metadata": {},
   "cell_type": "code",
   "outputs": [],
   "execution_count": null,
   "source": [
    "import numpy as np\n",
    "Listoffilter =[32,64,128,256]\n",
    "Allfilters = []\n",
    "n_conv_layers = 6\n",
    "Allfilters.append(np.random.choice(Listoffilter))\n",
    "for i in range(1, n_conv_layers):\n",
    "    \n",
    "    "
   ],
   "id": "cfe5488c564a7e5c"
  },
  {
   "metadata": {},
   "cell_type": "code",
   "outputs": [],
   "execution_count": null,
   "source": "",
   "id": "db2114ead51d2f41"
  },
  {
   "metadata": {},
   "cell_type": "code",
   "outputs": [],
   "execution_count": null,
   "source": "",
   "id": "e31424136b67e171"
  },
  {
   "metadata": {},
   "cell_type": "code",
   "outputs": [],
   "execution_count": null,
   "source": "",
   "id": "b3f3f8e3a71290d"
  },
  {
   "metadata": {},
   "cell_type": "code",
   "outputs": [],
   "execution_count": null,
   "source": "",
   "id": "80f2fc2acce92411"
  },
  {
   "metadata": {},
   "cell_type": "code",
   "outputs": [],
   "execution_count": null,
   "source": "",
   "id": "daef5471c1a13874"
  },
  {
   "metadata": {},
   "cell_type": "code",
   "outputs": [],
   "execution_count": null,
   "source": "",
   "id": "34845aba2fb154e8"
  },
  {
   "metadata": {},
   "cell_type": "code",
   "outputs": [],
   "execution_count": null,
   "source": [
    "dense_units = []\n",
    "    dense_units.append(trial.suggest_categorical(\"dense_0\", [256, 128, 64, 32]))\n",
    "    for i in range(1, n_dense_layers):\n",
    "        possible_units = [u for u in [256, 128, 64] if u <= dense_units[-1]]\n",
    "        if not possible_units:\n",
    "            break\n",
    "        dense_units.append(trial.suggest_categorical(f\"dense_{i}\", possible_units))\n",
    "\n",
    "    for units in dense_units:\n",
    "        model.add(Dense(units, activation='relu'))\n",
    "        model.add(BatchNormalization())\n",
    "        model.add(Dropout(0.3))"
   ],
   "id": "2e2e96353d80900f"
  }
 ],
 "metadata": {
  "kernelspec": {
   "display_name": "Python 3",
   "language": "python",
   "name": "python3"
  },
  "language_info": {
   "codemirror_mode": {
    "name": "ipython",
    "version": 2
   },
   "file_extension": ".py",
   "mimetype": "text/x-python",
   "name": "python",
   "nbconvert_exporter": "python",
   "pygments_lexer": "ipython2",
   "version": "2.7.6"
  }
 },
 "nbformat": 4,
 "nbformat_minor": 5
}
