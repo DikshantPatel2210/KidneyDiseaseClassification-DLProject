{
 "cells": [
  {
   "cell_type": "code",
   "id": "initial_id",
   "metadata": {
    "collapsed": true,
    "ExecuteTime": {
     "end_time": "2025-04-21T10:30:52.726919Z",
     "start_time": "2025-04-21T10:30:52.712483Z"
    }
   },
   "source": "import os",
   "outputs": [],
   "execution_count": 1
  },
  {
   "metadata": {
    "ExecuteTime": {
     "end_time": "2025-04-21T10:30:53.798088Z",
     "start_time": "2025-04-21T10:30:53.780090Z"
    }
   },
   "cell_type": "code",
   "source": "%pwd",
   "id": "fddba767f2a805e",
   "outputs": [
    {
     "data": {
      "text/plain": [
       "'C:\\\\Users\\\\DIKSHANT PATEL\\\\Kidney-Disease-Classification\\\\research'"
      ]
     },
     "execution_count": 2,
     "metadata": {},
     "output_type": "execute_result"
    }
   ],
   "execution_count": 2
  },
  {
   "metadata": {
    "ExecuteTime": {
     "end_time": "2025-04-21T10:31:05.649283Z",
     "start_time": "2025-04-21T10:31:05.633646Z"
    }
   },
   "cell_type": "code",
   "source": "os.chdir('../')",
   "id": "bd696c5e11e26491",
   "outputs": [],
   "execution_count": 3
  },
  {
   "metadata": {
    "ExecuteTime": {
     "end_time": "2025-04-21T10:31:09.509738Z",
     "start_time": "2025-04-21T10:31:09.489737Z"
    }
   },
   "cell_type": "code",
   "source": "%pwd",
   "id": "ed16d4b0c605cf5f",
   "outputs": [
    {
     "data": {
      "text/plain": [
       "'C:\\\\Users\\\\DIKSHANT PATEL\\\\Kidney-Disease-Classification'"
      ]
     },
     "execution_count": 4,
     "metadata": {},
     "output_type": "execute_result"
    }
   ],
   "execution_count": 4
  },
  {
   "metadata": {},
   "cell_type": "code",
   "outputs": [],
   "execution_count": null,
   "source": [
    "from cnnClassifier.constants import *\n",
    "from cnnClassifier.utils.common import read_yaml, create_directories"
   ],
   "id": "2a62d3999e32ffe"
  },
  {
   "metadata": {
    "ExecuteTime": {
     "end_time": "2025-04-21T15:10:37.217681Z",
     "start_time": "2025-04-21T15:10:37.184683Z"
    }
   },
   "cell_type": "code",
   "source": "import pandas as pd",
   "id": "d89c652d0dbca047",
   "outputs": [],
   "execution_count": 5
  },
  {
   "metadata": {
    "ExecuteTime": {
     "end_time": "2025-04-21T15:11:08.119183Z",
     "start_time": "2025-04-21T15:11:08.007337Z"
    }
   },
   "cell_type": "code",
   "source": [
    "df = pd.read_csv(\"artifacts/data_preprocessing/Data.csv\")\n",
    "df.sample(10)"
   ],
   "id": "96217f301108a538",
   "outputs": [
    {
     "data": {
      "text/plain": [
       "                                                filepath   label\n",
       "7100   artifacts/data_ingestion/CT-KIDNEY-DATASET-Nor...  Normal\n",
       "12306  artifacts/data_ingestion/CT-KIDNEY-DATASET-Nor...   Tumor\n",
       "2328   artifacts/data_ingestion/CT-KIDNEY-DATASET-Nor...    Cyst\n",
       "5965   artifacts/data_ingestion/CT-KIDNEY-DATASET-Nor...  Normal\n",
       "11910  artifacts/data_ingestion/CT-KIDNEY-DATASET-Nor...   Tumor\n",
       "11718  artifacts/data_ingestion/CT-KIDNEY-DATASET-Nor...   Tumor\n",
       "2230   artifacts/data_ingestion/CT-KIDNEY-DATASET-Nor...    Cyst\n",
       "11159  artifacts/data_ingestion/CT-KIDNEY-DATASET-Nor...   Tumor\n",
       "11041  artifacts/data_ingestion/CT-KIDNEY-DATASET-Nor...   Tumor\n",
       "8973   artifacts/data_ingestion/CT-KIDNEY-DATASET-Nor...   Stone"
      ],
      "text/html": [
       "<div>\n",
       "<style scoped>\n",
       "    .dataframe tbody tr th:only-of-type {\n",
       "        vertical-align: middle;\n",
       "    }\n",
       "\n",
       "    .dataframe tbody tr th {\n",
       "        vertical-align: top;\n",
       "    }\n",
       "\n",
       "    .dataframe thead th {\n",
       "        text-align: right;\n",
       "    }\n",
       "</style>\n",
       "<table border=\"1\" class=\"dataframe\">\n",
       "  <thead>\n",
       "    <tr style=\"text-align: right;\">\n",
       "      <th></th>\n",
       "      <th>filepath</th>\n",
       "      <th>label</th>\n",
       "    </tr>\n",
       "  </thead>\n",
       "  <tbody>\n",
       "    <tr>\n",
       "      <th>7100</th>\n",
       "      <td>artifacts/data_ingestion/CT-KIDNEY-DATASET-Nor...</td>\n",
       "      <td>Normal</td>\n",
       "    </tr>\n",
       "    <tr>\n",
       "      <th>12306</th>\n",
       "      <td>artifacts/data_ingestion/CT-KIDNEY-DATASET-Nor...</td>\n",
       "      <td>Tumor</td>\n",
       "    </tr>\n",
       "    <tr>\n",
       "      <th>2328</th>\n",
       "      <td>artifacts/data_ingestion/CT-KIDNEY-DATASET-Nor...</td>\n",
       "      <td>Cyst</td>\n",
       "    </tr>\n",
       "    <tr>\n",
       "      <th>5965</th>\n",
       "      <td>artifacts/data_ingestion/CT-KIDNEY-DATASET-Nor...</td>\n",
       "      <td>Normal</td>\n",
       "    </tr>\n",
       "    <tr>\n",
       "      <th>11910</th>\n",
       "      <td>artifacts/data_ingestion/CT-KIDNEY-DATASET-Nor...</td>\n",
       "      <td>Tumor</td>\n",
       "    </tr>\n",
       "    <tr>\n",
       "      <th>11718</th>\n",
       "      <td>artifacts/data_ingestion/CT-KIDNEY-DATASET-Nor...</td>\n",
       "      <td>Tumor</td>\n",
       "    </tr>\n",
       "    <tr>\n",
       "      <th>2230</th>\n",
       "      <td>artifacts/data_ingestion/CT-KIDNEY-DATASET-Nor...</td>\n",
       "      <td>Cyst</td>\n",
       "    </tr>\n",
       "    <tr>\n",
       "      <th>11159</th>\n",
       "      <td>artifacts/data_ingestion/CT-KIDNEY-DATASET-Nor...</td>\n",
       "      <td>Tumor</td>\n",
       "    </tr>\n",
       "    <tr>\n",
       "      <th>11041</th>\n",
       "      <td>artifacts/data_ingestion/CT-KIDNEY-DATASET-Nor...</td>\n",
       "      <td>Tumor</td>\n",
       "    </tr>\n",
       "    <tr>\n",
       "      <th>8973</th>\n",
       "      <td>artifacts/data_ingestion/CT-KIDNEY-DATASET-Nor...</td>\n",
       "      <td>Stone</td>\n",
       "    </tr>\n",
       "  </tbody>\n",
       "</table>\n",
       "</div>"
      ]
     },
     "execution_count": 6,
     "metadata": {},
     "output_type": "execute_result"
    }
   ],
   "execution_count": 6
  },
  {
   "metadata": {
    "ExecuteTime": {
     "end_time": "2025-04-21T15:12:22.994252Z",
     "start_time": "2025-04-21T15:12:22.980252Z"
    }
   },
   "cell_type": "code",
   "source": [
    "label_mapping = {\"Normal\": 0,\n",
    "                 \"Cyst\": 1,\n",
    "                 \"Tumor\": 2,\n",
    "                 \"Stone\": 3}\n",
    "df[\"label\"] = df[\"label\"].map(label_mapping)\n"
   ],
   "id": "278645b778307d26",
   "outputs": [],
   "execution_count": 7
  },
  {
   "metadata": {
    "ExecuteTime": {
     "end_time": "2025-04-21T15:12:59.015428Z",
     "start_time": "2025-04-21T15:12:59.001433Z"
    }
   },
   "cell_type": "code",
   "source": "df.sample(10)",
   "id": "3b3cb5d8bd1c27e6",
   "outputs": [
    {
     "data": {
      "text/plain": [
       "                                               filepath  label\n",
       "1980  artifacts/data_ingestion/CT-KIDNEY-DATASET-Nor...      1\n",
       "9572  artifacts/data_ingestion/CT-KIDNEY-DATASET-Nor...      3\n",
       "5616  artifacts/data_ingestion/CT-KIDNEY-DATASET-Nor...      0\n",
       "9754  artifacts/data_ingestion/CT-KIDNEY-DATASET-Nor...      3\n",
       "1763  artifacts/data_ingestion/CT-KIDNEY-DATASET-Nor...      1\n",
       "5798  artifacts/data_ingestion/CT-KIDNEY-DATASET-Nor...      0\n",
       "4268  artifacts/data_ingestion/CT-KIDNEY-DATASET-Nor...      0\n",
       "9701  artifacts/data_ingestion/CT-KIDNEY-DATASET-Nor...      3\n",
       "3244  artifacts/data_ingestion/CT-KIDNEY-DATASET-Nor...      1\n",
       "6846  artifacts/data_ingestion/CT-KIDNEY-DATASET-Nor...      0"
      ],
      "text/html": [
       "<div>\n",
       "<style scoped>\n",
       "    .dataframe tbody tr th:only-of-type {\n",
       "        vertical-align: middle;\n",
       "    }\n",
       "\n",
       "    .dataframe tbody tr th {\n",
       "        vertical-align: top;\n",
       "    }\n",
       "\n",
       "    .dataframe thead th {\n",
       "        text-align: right;\n",
       "    }\n",
       "</style>\n",
       "<table border=\"1\" class=\"dataframe\">\n",
       "  <thead>\n",
       "    <tr style=\"text-align: right;\">\n",
       "      <th></th>\n",
       "      <th>filepath</th>\n",
       "      <th>label</th>\n",
       "    </tr>\n",
       "  </thead>\n",
       "  <tbody>\n",
       "    <tr>\n",
       "      <th>1980</th>\n",
       "      <td>artifacts/data_ingestion/CT-KIDNEY-DATASET-Nor...</td>\n",
       "      <td>1</td>\n",
       "    </tr>\n",
       "    <tr>\n",
       "      <th>9572</th>\n",
       "      <td>artifacts/data_ingestion/CT-KIDNEY-DATASET-Nor...</td>\n",
       "      <td>3</td>\n",
       "    </tr>\n",
       "    <tr>\n",
       "      <th>5616</th>\n",
       "      <td>artifacts/data_ingestion/CT-KIDNEY-DATASET-Nor...</td>\n",
       "      <td>0</td>\n",
       "    </tr>\n",
       "    <tr>\n",
       "      <th>9754</th>\n",
       "      <td>artifacts/data_ingestion/CT-KIDNEY-DATASET-Nor...</td>\n",
       "      <td>3</td>\n",
       "    </tr>\n",
       "    <tr>\n",
       "      <th>1763</th>\n",
       "      <td>artifacts/data_ingestion/CT-KIDNEY-DATASET-Nor...</td>\n",
       "      <td>1</td>\n",
       "    </tr>\n",
       "    <tr>\n",
       "      <th>5798</th>\n",
       "      <td>artifacts/data_ingestion/CT-KIDNEY-DATASET-Nor...</td>\n",
       "      <td>0</td>\n",
       "    </tr>\n",
       "    <tr>\n",
       "      <th>4268</th>\n",
       "      <td>artifacts/data_ingestion/CT-KIDNEY-DATASET-Nor...</td>\n",
       "      <td>0</td>\n",
       "    </tr>\n",
       "    <tr>\n",
       "      <th>9701</th>\n",
       "      <td>artifacts/data_ingestion/CT-KIDNEY-DATASET-Nor...</td>\n",
       "      <td>3</td>\n",
       "    </tr>\n",
       "    <tr>\n",
       "      <th>3244</th>\n",
       "      <td>artifacts/data_ingestion/CT-KIDNEY-DATASET-Nor...</td>\n",
       "      <td>1</td>\n",
       "    </tr>\n",
       "    <tr>\n",
       "      <th>6846</th>\n",
       "      <td>artifacts/data_ingestion/CT-KIDNEY-DATASET-Nor...</td>\n",
       "      <td>0</td>\n",
       "    </tr>\n",
       "  </tbody>\n",
       "</table>\n",
       "</div>"
      ]
     },
     "execution_count": 9,
     "metadata": {},
     "output_type": "execute_result"
    }
   ],
   "execution_count": 9
  },
  {
   "metadata": {
    "ExecuteTime": {
     "end_time": "2025-04-21T15:18:34.632650Z",
     "start_time": "2025-04-21T15:18:34.357299Z"
    }
   },
   "cell_type": "code",
   "source": "from sklearn.model_selection import train_test_split, StratifiedKFold, KFold",
   "id": "2c5f4acff0a9ad9f",
   "outputs": [],
   "execution_count": 11
  },
  {
   "metadata": {
    "ExecuteTime": {
     "end_time": "2025-04-21T15:19:24.089606Z",
     "start_time": "2025-04-21T15:19:24.061608Z"
    }
   },
   "cell_type": "code",
   "source": [
    "train_df , temp_df = train_test_split(df, test_size = 0.3, random_state = 42, stratify = df[\"label\"])\n",
    "test_df, valid_df = train_test_split(temp_df, test_size = 0.3, random_state=42, stratify = temp_df[\"label\"])\n",
    "\n",
    "print(\"Training set shapes:\",train_df.shape)\n",
    "print(\"Training set shapes:\",test_df.shape)\n",
    "print(\"Training set shapes:\",valid_df.shape)"
   ],
   "id": "5f0045dc4b4e5b34",
   "outputs": [
    {
     "name": "stdout",
     "output_type": "stream",
     "text": [
      "Training set shapes: (8712, 2)\n",
      "Training set shapes: (2613, 2)\n",
      "Training set shapes: (1121, 2)\n"
     ]
    }
   ],
   "execution_count": 14
  },
  {
   "metadata": {
    "ExecuteTime": {
     "end_time": "2025-04-21T15:20:04.162459Z",
     "start_time": "2025-04-21T15:20:04.143459Z"
    }
   },
   "cell_type": "code",
   "source": [
    "print(\"\\nTraining Set class Distribution:\")\n",
    "print(train_df[\"label\"].value_counts(normalize = True))\n",
    "\n",
    "\n",
    "print(\"\\nTesting Set class Distribution:\")\n",
    "print(test_df[\"label\"].value_counts(normalize = True))\n",
    "\n",
    "\n",
    "print(\"\\nvalidation Set class Distribution:\")\n",
    "print(valid_df[\"label\"].value_counts(normalize = True))\n"
   ],
   "id": "5e4a01007fa0176b",
   "outputs": [
    {
     "name": "stdout",
     "output_type": "stream",
     "text": [
      "\n",
      "Training Set class Distribution:\n",
      "label\n",
      "0    0.407943\n",
      "1    0.297980\n",
      "2    0.183425\n",
      "3    0.110652\n",
      "Name: proportion, dtype: float64\n",
      "\n",
      "Testing Set class Distribution:\n",
      "label\n",
      "0    0.407960\n",
      "1    0.298125\n",
      "2    0.183314\n",
      "3    0.110601\n",
      "Name: proportion, dtype: float64\n",
      "\n",
      "validation Set class Distribution:\n",
      "label\n",
      "0    0.407672\n",
      "1    0.297948\n",
      "2    0.183764\n",
      "3    0.110616\n",
      "Name: proportion, dtype: float64\n"
     ]
    }
   ],
   "execution_count": 16
  },
  {
   "metadata": {
    "ExecuteTime": {
     "end_time": "2025-04-21T15:56:01.560683Z",
     "start_time": "2025-04-21T15:56:01.470717Z"
    }
   },
   "cell_type": "code",
   "source": [
    "from dataclasses import dataclass\n",
    "import pandas as pd\n",
    "from sklearn.model_selection import train_test_split\n",
    "from pathlib import Path\n",
    "from cnnClassifier.utils.common import read_yaml, create_directories\n",
    "from cnnClassifier.constants import *\n",
    "from cnnClassifier import logger"
   ],
   "id": "113a5fd0aab21a9c",
   "outputs": [],
   "execution_count": 17
  },
  {
   "metadata": {
    "ExecuteTime": {
     "end_time": "2025-04-21T16:43:25.335874Z",
     "start_time": "2025-04-21T16:43:25.326871Z"
    }
   },
   "cell_type": "code",
   "source": [
    "@dataclass(frozen = True)\n",
    "class DataSplitConfig:\n",
    "    root_dir: Path\n",
    "    base_csv_path: Path\n",
    "    train_csv_path: Path\n",
    "    val_csv_path: Path\n",
    "    test_csv_path: Path\n",
    "    test_size: float\n",
    "    random_state: float  \n",
    "    Normal: int\n",
    "    Cyst: int\n",
    "    Tumor:int\n",
    "    Stone:int"
   ],
   "id": "a2e387664c7407c4",
   "outputs": [],
   "execution_count": 38
  },
  {
   "metadata": {
    "ExecuteTime": {
     "end_time": "2025-04-21T16:43:25.850346Z",
     "start_time": "2025-04-21T16:43:25.840345Z"
    }
   },
   "cell_type": "code",
   "source": [
    "class ConfigurationManager:\n",
    "    def __init__(self, config_filepath = CONFIG_FILE_PATH, params_filepath = PARAMS_FILE_PATH):\n",
    "        self.config = read_yaml(config_filepath)\n",
    "        self.params = read_yaml(params_filepath)\n",
    "    def get_data_split_config(self) -> DataSplitConfig:\n",
    "        config = self.config.data_split\n",
    "        label_mapping = self.params[\"label_mapping\"]\n",
    "        create_directories([config.root_dir])\n",
    "        data_split_config = DataSplitConfig(\n",
    "            root_dir=config.root_dir,\n",
    "            base_csv_path=config.base_csv_path,\n",
    "            train_csv_path=config.train_csv_path,\n",
    "            val_csv_path=config.val_csv_path,\n",
    "            test_csv_path=config.test_csv_path,\n",
    "            test_size=config.test_size,\n",
    "            random_state=config.random_state,\n",
    "            Normal=label_mapping[\"Normal\"],\n",
    "            Cyst= label_mapping[\"Cyst\"],\n",
    "            Tumor=label_mapping[\"Tumor\"],\n",
    "            Stone=label_mapping[\"Stone\"],\n",
    "        )\n",
    "        return data_split_config\n",
    "        "
   ],
   "id": "1118e42cb0898c93",
   "outputs": [],
   "execution_count": 39
  },
  {
   "metadata": {
    "ExecuteTime": {
     "end_time": "2025-04-21T16:43:26.411134Z",
     "start_time": "2025-04-21T16:43:26.387136Z"
    }
   },
   "cell_type": "code",
   "source": [
    "class DataSplitter:\n",
    "    def __init__(self, config: DataSplitConfig):\n",
    "        self.config = config\n",
    "        \n",
    "    def split_data(self):\n",
    "        try:\n",
    "            df = pd.read_csv(self.config.base_csv_path)\n",
    "            label_mapping = {\n",
    "                         \"Normal\": self.config.Normal,\n",
    "                         \"Cyst\": self.config.Cyst,\n",
    "                         \"Tumor\": self.config.Tumor,\n",
    "                         \"Stone\": self.config.Stone }\n",
    "            \n",
    "            \n",
    "            df[\"label\"] = df[\"label\"].map(label_mapping)\n",
    "            logger.info(f\"Applied label mapping: {label_mapping}\")\n",
    "            train_df, temp_df = train_test_split(\n",
    "                df,\n",
    "                test_size=self.config.test_size,\n",
    "                stratify=df[\"label\"],\n",
    "                random_state=self.config.random_state\n",
    "            )\n",
    "\n",
    "            test_df, valid_df = train_test_split(\n",
    "                temp_df,\n",
    "                test_size=self.config.test_size,\n",
    "                stratify=temp_df[\"label\"],\n",
    "                random_state=self.config.random_state\n",
    "            )\n",
    "\n",
    "            # Save all\n",
    "            create_directories([self.config.root_dir])\n",
    "            train_df.to_csv(self.config.train_csv_path, index=False)\n",
    "            valid_df.to_csv(self.config.val_csv_path, index=False)\n",
    "            test_df.to_csv(self.config.test_csv_path, index=False)\n",
    "\n",
    "            logger.info(\"Train, validation, and test files saved successfully!\")\n",
    "            logger.info(\n",
    "                f\"\"\"\n",
    "                Train shape: {train_df.shape}\n",
    "                Training Set Class Distribution:\n",
    "                {train_df[\"label\"].value_counts(normalize=True)}\n",
    "            \n",
    "                Validation shape: {valid_df.shape}\n",
    "                Validation Set Class Distribution:\n",
    "                {valid_df[\"label\"].value_counts(normalize=True)}\n",
    "            \n",
    "                Test shape: {test_df.shape}\n",
    "                Test Set Class Distribution:\n",
    "                {test_df[\"label\"].value_counts(normalize=True)}\n",
    "                \"\"\")\n",
    "\n",
    "        except Exception as e:\n",
    "            logger.exception(f\"Error in data splitting: {e}\")\n",
    "            raise e"
   ],
   "id": "8b4d3df1414feabb",
   "outputs": [],
   "execution_count": 40
  },
  {
   "metadata": {
    "ExecuteTime": {
     "end_time": "2025-04-21T16:43:27.778594Z",
     "start_time": "2025-04-21T16:43:27.182546Z"
    }
   },
   "cell_type": "code",
   "source": [
    "try:\n",
    "    config = ConfigurationManager()\n",
    "    data_split_config = config.get_data_split_config()\n",
    "    data_splitter = DataSplitter(config = data_split_config)\n",
    "    data_splitter.split_data()\n",
    "    \n",
    "except Exception as e:\n",
    "    raise e"
   ],
   "id": "f538d87f3df99c7d",
   "outputs": [
    {
     "name": "stdout",
     "output_type": "stream",
     "text": [
      "[2025-04-21 18:43:27,188: INFO: common: yaml file: config\\config.yaml loaded successfully]\n",
      "[2025-04-21 18:43:27,193: INFO: common: yaml file: params.yaml loaded successfully]\n",
      "[2025-04-21 18:43:27,195: INFO: common: created directory at: artifacts/data_split]\n",
      "[2025-04-21 18:43:27,618: INFO: 2822761280: Applied label mapping: {'Normal': 0, 'Cyst': 1, 'Tumor': 2, 'Stone': 3}]\n",
      "[2025-04-21 18:43:27,696: INFO: common: created directory at: artifacts/data_split]\n",
      "[2025-04-21 18:43:27,754: INFO: 2822761280: Train, validation, and test files saved successfully!]\n",
      "[2025-04-21 18:43:27,759: INFO: 2822761280: \n",
      "                Train shape: (8712, 2)\n",
      "                Training Set Class Distribution:\n",
      "                label\n",
      "0    0.407943\n",
      "1    0.297980\n",
      "2    0.183425\n",
      "3    0.110652\n",
      "Name: proportion, dtype: float64\n",
      "            \n",
      "                Validation shape: (1121, 2)\n",
      "                Validation Set Class Distribution:\n",
      "                label\n",
      "0    0.407672\n",
      "1    0.297948\n",
      "2    0.183764\n",
      "3    0.110616\n",
      "Name: proportion, dtype: float64\n",
      "            \n",
      "                Test shape: (2613, 2)\n",
      "                Test Set Class Distribution:\n",
      "                label\n",
      "0    0.407960\n",
      "1    0.298125\n",
      "2    0.183314\n",
      "3    0.110601\n",
      "Name: proportion, dtype: float64\n",
      "                ]\n"
     ]
    }
   ],
   "execution_count": 41
  },
  {
   "metadata": {},
   "cell_type": "code",
   "outputs": [],
   "execution_count": null,
   "source": "",
   "id": "db25e944994819c4"
  }
 ],
 "metadata": {
  "kernelspec": {
   "display_name": "Python (.venv)",
   "language": "python",
   "name": ".venv"
  },
  "language_info": {
   "codemirror_mode": {
    "name": "ipython",
    "version": 2
   },
   "file_extension": ".py",
   "mimetype": "text/x-python",
   "name": "python",
   "nbconvert_exporter": "python",
   "pygments_lexer": "ipython2",
   "version": "2.7.6"
  }
 },
 "nbformat": 4,
 "nbformat_minor": 5
}
