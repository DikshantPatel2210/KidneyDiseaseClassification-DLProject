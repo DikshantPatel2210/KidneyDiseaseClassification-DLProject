{
 "cells": [
  {
   "cell_type": "code",
   "id": "initial_id",
   "metadata": {
    "collapsed": true,
    "ExecuteTime": {
     "end_time": "2025-04-22T07:02:53.737347Z",
     "start_time": "2025-04-22T07:02:53.724345Z"
    }
   },
   "source": "import os",
   "outputs": [],
   "execution_count": 1
  },
  {
   "metadata": {
    "ExecuteTime": {
     "end_time": "2025-04-22T07:02:53.753345Z",
     "start_time": "2025-04-22T07:02:53.739348Z"
    }
   },
   "cell_type": "code",
   "source": "%pwd",
   "id": "e75cf560b47e6996",
   "outputs": [
    {
     "data": {
      "text/plain": [
       "'C:\\\\Users\\\\DIKSHANT PATEL\\\\Kidney-Disease-Classification\\\\research'"
      ]
     },
     "execution_count": 2,
     "metadata": {},
     "output_type": "execute_result"
    }
   ],
   "execution_count": 2
  },
  {
   "metadata": {
    "ExecuteTime": {
     "end_time": "2025-04-22T07:02:56.213848Z",
     "start_time": "2025-04-22T07:02:56.207849Z"
    }
   },
   "cell_type": "code",
   "source": "os.chdir('../.')",
   "id": "cf02bece822b4f26",
   "outputs": [],
   "execution_count": 3
  },
  {
   "metadata": {
    "ExecuteTime": {
     "end_time": "2025-04-22T07:02:56.508590Z",
     "start_time": "2025-04-22T07:02:56.497591Z"
    }
   },
   "cell_type": "code",
   "source": "%pwd",
   "id": "fe0817f96b4ea7c4",
   "outputs": [
    {
     "data": {
      "text/plain": [
       "'C:\\\\Users\\\\DIKSHANT PATEL\\\\Kidney-Disease-Classification'"
      ]
     },
     "execution_count": 4,
     "metadata": {},
     "output_type": "execute_result"
    }
   ],
   "execution_count": 4
  },
  {
   "metadata": {
    "ExecuteTime": {
     "end_time": "2025-04-22T07:02:57.006522Z",
     "start_time": "2025-04-22T07:02:56.993525Z"
    }
   },
   "cell_type": "code",
   "source": [
    "from dataclasses import dataclass\n",
    "from typing import Any\n",
    "\n",
    "@dataclass\n",
    "class CallbacksConfig:\n",
    "    checkpoint_path: str\n",
    "    early_stopping_params: dict\n",
    "    reduce_lr_params: dict\n",
    "    checkpoint_params: dict"
   ],
   "id": "d53514616d75bf22",
   "outputs": [],
   "execution_count": 5
  },
  {
   "metadata": {
    "ExecuteTime": {
     "end_time": "2025-04-22T07:02:57.674473Z",
     "start_time": "2025-04-22T07:02:57.460475Z"
    }
   },
   "cell_type": "code",
   "source": [
    "from cnnClassifier.constants import *\n",
    "from cnnClassifier.utils.common import read_yaml, create_directories"
   ],
   "id": "c29ec68deb8ce810",
   "outputs": [],
   "execution_count": 6
  },
  {
   "metadata": {
    "ExecuteTime": {
     "end_time": "2025-04-22T07:02:57.921089Z",
     "start_time": "2025-04-22T07:02:57.909057Z"
    }
   },
   "cell_type": "code",
   "source": [
    "class ConfigurationManager:\n",
    "    def __init__(self,\n",
    "                 config_filepath=CONFIG_FILE_PATH,\n",
    "                 params_filepath=PARAMS_FILE_PATH):\n",
    "        self.config = read_yaml(config_filepath)\n",
    "        self.params = read_yaml(params_filepath)\n",
    "\n",
    "        create_directories([self.config.artifacts_roots])\n",
    "    \n",
    "    def get_callbacks_config(self) -> CallbacksConfig:\n",
    "    \n",
    "        callbacks_config = self.config.callbacks\n",
    "        training_params = self.params.training\n",
    "\n",
    "        create_directories([callbacks_config.checkpoint_dir])\n",
    "\n",
    "        return CallbacksConfig(\n",
    "            checkpoint_path=training_params.checkpoint.filepath,\n",
    "            early_stopping_params=training_params.early_stopping,\n",
    "            reduce_lr_params=training_params.reduce_lr,\n",
    "            checkpoint_params=training_params.checkpoint\n",
    "        )"
   ],
   "id": "27db2a1337246e50",
   "outputs": [],
   "execution_count": 7
  },
  {
   "metadata": {
    "ExecuteTime": {
     "end_time": "2025-04-22T07:03:04.517903Z",
     "start_time": "2025-04-22T07:02:58.815362Z"
    }
   },
   "cell_type": "code",
   "source": [
    "import numpy as np\n",
    "from tensorflow.keras.callbacks import (\n",
    "    ModelCheckpoint,\n",
    "    EarlyStopping,\n",
    "    ReduceLROnPlateau,\n",
    "    Callback\n",
    ")\n",
    "from sklearn.utils.class_weight import compute_class_weight\n",
    "from cnnClassifier import logger"
   ],
   "id": "a1d989ed7016571e",
   "outputs": [],
   "execution_count": 8
  },
  {
   "metadata": {
    "ExecuteTime": {
     "end_time": "2025-04-22T07:03:04.532947Z",
     "start_time": "2025-04-22T07:03:04.518914Z"
    }
   },
   "cell_type": "code",
   "source": "",
   "id": "8745b42fba38110a",
   "outputs": [],
   "execution_count": 8
  },
  {
   "metadata": {
    "ExecuteTime": {
     "end_time": "2025-04-22T07:12:15.625192Z",
     "start_time": "2025-04-22T07:12:15.608268Z"
    }
   },
   "cell_type": "code",
   "source": [
    "class CustomObjectiveLogger(Callback):\n",
    "    def on_epoch_end(self, epoch, logs=None):\n",
    "        acc_val = logs.get('val_accuracy', 0)\n",
    "        acc_train = logs.get('accuracy', 0)\n",
    "        loss_val = logs.get('val_loss', 0)\n",
    "        loss_train = logs.get('loss', 0)\n",
    "\n",
    "        loss_diff = abs(loss_val - loss_train)\n",
    "        objective_value = acc_val - loss_diff\n",
    "        logs['val_objective'] = objective_value\n",
    "        \n",
    "        logger.info(\n",
    "            f\"[Epoch {epoch + 1:03d}] Custom Objective = {objective_value:.6f},\\n \"\n",
    "            f\"Train Acc = {acc_train:.4f}, Train Loss = {loss_train:.4f}, \"\n",
    "            f\"Val Acc = {acc_val:.4f}, Val Loss = {loss_val:.4f}\"\n",
    "        )\n",
    "        \n",
    "class CallbackHandler:\n",
    "    def __init__(self, config: CallbacksConfig, ori_training_set ):\n",
    "        self.config = config\n",
    "        self.ori_training_set = ori_training_set\n",
    "\n",
    "    def get_class_weights(self):\n",
    "        logger.info(\"Computing class weights...\")\n",
    "        class_weights = compute_class_weight(\n",
    "            class_weight='balanced',\n",
    "            classes=np.unique(self.ori_training_set.classes),\n",
    "            y=self.ori_training_set.classes\n",
    "        )\n",
    "        class_weights_dict = dict(zip(np.unique(self.ori_training_set.classes), class_weights))\n",
    "        logger.info(f\"Class Weights: {class_weights_dict}\")\n",
    "        return class_weights_dict\n",
    "\n",
    "    def get_callbacks(self):\n",
    "        logger.info(\"Preparing callbacks...\")\n",
    "\n",
    "        checkpoint = ModelCheckpoint(\n",
    "            **self.config.checkpoint_params\n",
    "        )\n",
    "\n",
    "        early_stopping = EarlyStopping(\n",
    "            **self.config.early_stopping_params\n",
    "        )\n",
    "\n",
    "        reduce_lr = ReduceLROnPlateau(\n",
    "            **self.config.reduce_lr_params\n",
    "        )\n",
    "\n",
    "        custom_logger = CustomObjectiveLogger()\n",
    "\n",
    "        return [custom_logger, early_stopping, reduce_lr, checkpoint]"
   ],
   "id": "9320530b2e815b27",
   "outputs": [],
   "execution_count": 13
  },
  {
   "metadata": {},
   "cell_type": "markdown",
   "source": "",
   "id": "f26445526b715261"
  },
  {
   "metadata": {
    "ExecuteTime": {
     "end_time": "2025-04-22T07:12:16.418376Z",
     "start_time": "2025-04-22T07:12:16.404898Z"
    }
   },
   "cell_type": "code",
   "source": [
    "from cnnClassifier.config.configuration import ConfigurationManager\n",
    "from cnnClassifier.components.data_loader import DataLoader\n",
    "from cnnClassifier.components.callback import CallbacksConfig\n"
   ],
   "id": "c6a724b8a16669fa",
   "outputs": [],
   "execution_count": 14
  },
  {
   "metadata": {
    "ExecuteTime": {
     "end_time": "2025-04-22T07:12:19.069779Z",
     "start_time": "2025-04-22T07:12:16.911152Z"
    }
   },
   "cell_type": "code",
   "source": [
    "try:\n",
    "    config = ConfigurationManager()\n",
    "    \n",
    "    data_loader_config = config.get_data_loader_config()\n",
    "    data_loader = DataLoader(config=data_loader_config)\n",
    "    train_generator, val_generator, test_generator,train_df, ori_train = data_loader.get_generators()\n",
    "\n",
    "    callbacks_config = config.get_callbacks_config()\n",
    "    handler = CallbackHandler(config=callbacks_config, ori_training_set=ori_train)\n",
    "    class_weights = handler.get_class_weights()\n",
    "    callbacks = handler.get_callbacks()\n",
    "    \n",
    "except Exception as e:\n",
    "    raise e"
   ],
   "id": "5cad13431650b71c",
   "outputs": [
    {
     "name": "stdout",
     "output_type": "stream",
     "text": [
      "[2025-04-22 09:12:16,918: INFO: common: yaml file: config\\config.yaml loaded successfully]\n",
      "[2025-04-22 09:12:16,928: INFO: common: yaml file: params.yaml loaded successfully]\n",
      "[2025-04-22 09:12:16,929: INFO: common: created directory at: artifacts]\n",
      "[2025-04-22 09:12:16,930: INFO: data_loader: Loading dataframe from file: artifacts/data_split/train.csv]\n",
      "[2025-04-22 09:12:16,955: INFO: data_loader: Dataframe loaded successfully with 8712 records.]\n",
      "[2025-04-22 09:12:16,955: INFO: data_loader: Loading dataframe from file: artifacts/data_split/val.csv]\n",
      "[2025-04-22 09:12:16,960: INFO: data_loader: Dataframe loaded successfully with 1121 records.]\n",
      "[2025-04-22 09:12:16,961: INFO: data_loader: Loading dataframe from file: artifacts/data_split/test.csv]\n",
      "[2025-04-22 09:12:16,970: INFO: data_loader: Dataframe loaded successfully with 2613 records.]\n",
      "[2025-04-22 09:12:17,015: INFO: data_loader: Generators created successfully.]\n",
      "Found 8712 validated image filenames belonging to 4 classes.\n",
      "Found 8712 validated image filenames belonging to 4 classes.\n",
      "Found 1121 validated image filenames belonging to 4 classes.\n",
      "Found 2613 validated image filenames belonging to 4 classes.\n",
      "[2025-04-22 09:12:19,053: INFO: data_loader: Successfully Create the train:<generator object DataLoader.combined_generator at 0x000001FC687D9270> validation: <keras.preprocessing.image.DataFrameIterator object at 0x000001FC5FA29FD0> and test: <keras.preprocessing.image.DataFrameIterator object at 0x000001FC66554E80> generators.]\n",
      "[2025-04-22 09:12:19,055: INFO: common: created directory at: artifacts/checkpoints]\n",
      "[2025-04-22 09:12:19,055: INFO: 1742123238: Computing class weights...]\n",
      "[2025-04-22 09:12:19,059: INFO: 1742123238: Class Weights: {0: 0.6128306133933596, 1: 0.8389830508474576, 2: 1.362953692115144, 3: 2.259336099585062}]\n",
      "[2025-04-22 09:12:19,060: INFO: 1742123238: Preparing callbacks...]\n"
     ]
    }
   ],
   "execution_count": 15
  },
  {
   "metadata": {},
   "cell_type": "code",
   "source": "",
   "id": "354e568248d272de",
   "outputs": [],
   "execution_count": null
  },
  {
   "metadata": {},
   "cell_type": "code",
   "outputs": [],
   "execution_count": null,
   "source": "",
   "id": "4b8152f6ca4d05f"
  }
 ],
 "metadata": {
  "kernelspec": {
   "display_name": "Python (.venv)",
   "language": "python",
   "name": ".venv"
  },
  "language_info": {
   "codemirror_mode": {
    "name": "ipython",
    "version": 2
   },
   "file_extension": ".py",
   "mimetype": "text/x-python",
   "name": "python",
   "nbconvert_exporter": "python",
   "pygments_lexer": "ipython2",
   "version": "2.7.6"
  }
 },
 "nbformat": 4,
 "nbformat_minor": 5
}
