{
 "cells": [
  {
   "metadata": {},
   "cell_type": "code",
   "outputs": [],
   "execution_count": null,
   "source": "",
   "id": "185bd6442aa861ea"
  },
  {
   "metadata": {},
   "cell_type": "code",
   "outputs": [],
   "execution_count": null,
   "source": "",
   "id": "61a268efd82ab689"
  },
  {
   "metadata": {
    "ExecuteTime": {
     "end_time": "2025-05-15T11:50:46.130848Z",
     "start_time": "2025-05-15T11:50:46.111851Z"
    }
   },
   "cell_type": "code",
   "source": "import os",
   "id": "ad37da54a5b08b51",
   "outputs": [],
   "execution_count": 2
  },
  {
   "metadata": {
    "ExecuteTime": {
     "end_time": "2025-05-15T11:50:46.711940Z",
     "start_time": "2025-05-15T11:50:46.697943Z"
    }
   },
   "cell_type": "code",
   "source": "%pwd",
   "id": "e7b551244a751cbd",
   "outputs": [
    {
     "data": {
      "text/plain": [
       "'C:\\\\Users\\\\DIKSHANT PATEL\\\\Kidney-Disease-Classification\\\\research'"
      ]
     },
     "execution_count": 3,
     "metadata": {},
     "output_type": "execute_result"
    }
   ],
   "execution_count": 3
  },
  {
   "metadata": {
    "ExecuteTime": {
     "end_time": "2025-05-15T11:50:47.350692Z",
     "start_time": "2025-05-15T11:50:47.341695Z"
    }
   },
   "cell_type": "code",
   "source": "os.chdir(\"../\")",
   "id": "74fcb994e084bafb",
   "outputs": [],
   "execution_count": 4
  },
  {
   "metadata": {
    "ExecuteTime": {
     "end_time": "2025-05-15T11:50:48.077684Z",
     "start_time": "2025-05-15T11:50:48.067686Z"
    }
   },
   "cell_type": "code",
   "source": "%pwd",
   "id": "9a3f36c070a68f9c",
   "outputs": [
    {
     "data": {
      "text/plain": [
       "'C:\\\\Users\\\\DIKSHANT PATEL\\\\Kidney-Disease-Classification'"
      ]
     },
     "execution_count": 5,
     "metadata": {},
     "output_type": "execute_result"
    }
   ],
   "execution_count": 5
  },
  {
   "metadata": {
    "ExecuteTime": {
     "end_time": "2025-05-15T11:50:56.378492Z",
     "start_time": "2025-05-15T11:50:49.721277Z"
    }
   },
   "cell_type": "code",
   "source": "import tensorflow as tf",
   "id": "3313a1e2e7fd63a6",
   "outputs": [],
   "execution_count": 6
  },
  {
   "metadata": {
    "ExecuteTime": {
     "end_time": "2025-05-15T10:23:37.081953Z",
     "start_time": "2025-05-15T10:23:35.699848Z"
    }
   },
   "cell_type": "code",
   "source": "optuna_best_model = tf.keras.models.load_model(\"artifacts/optuna_best_model/best_model.keras\")",
   "id": "508f40ab9fa260a0",
   "outputs": [],
   "execution_count": 6
  },
  {
   "metadata": {
    "ExecuteTime": {
     "end_time": "2025-05-15T10:23:37.097378Z",
     "start_time": "2025-05-15T10:23:37.083970Z"
    }
   },
   "cell_type": "code",
   "source": [
    "from dataclasses import dataclass\n",
    "from pathlib import Path\n",
    "\n",
    "@dataclass(frozen=True)\n",
    "class OptunaTestingConfig:\n",
    "    optuna_best_trained_model: str\n",
    "    test_data: str\n",
    "    mlflow_uri: str\n",
    "    optuna_test_scores: str\n"
   ],
   "id": "ec96a4fb9e3b3ec8",
   "outputs": [],
   "execution_count": 7
  },
  {
   "metadata": {
    "ExecuteTime": {
     "end_time": "2025-05-15T10:23:38.220307Z",
     "start_time": "2025-05-15T10:23:38.079851Z"
    }
   },
   "cell_type": "code",
   "source": [
    "from cnnClassifier.constants import *\n",
    "from cnnClassifier.utils.common import read_yaml, create_directories, save_json\n"
   ],
   "id": "5969b1b9c30289aa",
   "outputs": [],
   "execution_count": 8
  },
  {
   "metadata": {
    "ExecuteTime": {
     "end_time": "2025-05-15T10:23:38.344569Z",
     "start_time": "2025-05-15T10:23:38.331569Z"
    }
   },
   "cell_type": "code",
   "source": [
    "class ConfigurationManager:\n",
    "    def __init__(self, config_filepath=CONFIG_FILE_PATH, params_filepath=PARAMS_FILE_PATH):\n",
    "        self.config = read_yaml(config_filepath)\n",
    "        self.params = read_yaml(params_filepath)\n",
    "        create_directories([self.config.artifacts_roots])\n",
    "\n",
    "    def get_optuna_test_config(self) -> OptunaTestingConfig:\n",
    "        config = self.config.optuna_testing_model\n",
    "        return OptunaTestingConfig(\n",
    "            optuna_best_trained_model=config.optuna_best_trained_model,\n",
    "            test_data=config.test_data,\n",
    "            mlflow_uri=config.mlflow_uri,\n",
    "            optuna_test_scores = config.optuna_test_scores\n",
    "        )"
   ],
   "id": "5373b3a2ef91125c",
   "outputs": [],
   "execution_count": 9
  },
  {
   "metadata": {
    "ExecuteTime": {
     "end_time": "2025-05-15T10:32:12.027312Z",
     "start_time": "2025-05-15T10:32:12.020821Z"
    }
   },
   "cell_type": "code",
   "source": [
    "import mlflow.keras\n",
    "from urllib.parse import urlparse\n",
    "import dagshub\n",
    "from pathlib import Path\n",
    "from cnnClassifier.utils.common import create_directories"
   ],
   "id": "1643204e7477c61c",
   "outputs": [],
   "execution_count": 16
  },
  {
   "metadata": {
    "ExecuteTime": {
     "end_time": "2025-05-15T10:53:29.466662Z",
     "start_time": "2025-05-15T10:53:29.435982Z"
    }
   },
   "cell_type": "code",
   "source": [
    "class OptunaEvaluation:\n",
    "    def __init__(self, config: OptunaTestingConfig, test_generator):\n",
    "        self.config = config\n",
    "        self.test_generator = test_generator\n",
    "        logger.info(\"Initialized OptunaEvaluation with given configuration.\")\n",
    "\n",
    "\n",
    "    @staticmethod\n",
    "    def load_model(path: Path) -> tf.keras.Model:\n",
    "        logger.info(f\"Loading model from path: {path}\")\n",
    "        return tf.keras.models.load_model(path)\n",
    "\n",
    "\n",
    "    def evaluate(self):\n",
    "        logger.info(\"Starting model evaluation on test dataset...\")\n",
    "        self.model = self.load_model(Path(self.config.optuna_best_trained_model))\n",
    "        self.score = self.model.evaluate(self.test_generator, verbose=1)\n",
    "        logger.info(f\"Model evaluation completed. Loss: {self.score[0]}, Accuracy: {self.score[1]}\")\n",
    "        self.save_score()\n",
    "\n",
    "    def save_score(self):\n",
    "        scores = {\"optuna_test_loss\": self.score[0], \"optuna_test_accuracy\": self.score[1]}\n",
    "        score_path = Path(self.config.optuna_test_scores)\n",
    "        create_directories([score_path.parent])\n",
    "        save_json(score_path, data=scores)\n",
    "        logger.info(f\"Saved evaluation scores at: {score_path}\")\n",
    "\n",
    "    def log_into_mlflow(self):\n",
    "        logger.info(\"Logging evaluation results into MLflow...\")\n",
    "        dagshub.init(repo_owner='DikshantPatel2210', repo_name='KidneyDiseaseClassification-DLProject', mlflow=True)\n",
    "        mlflow.set_tracking_uri(self.config.mlflow_uri)\n",
    "        mlflow.set_registry_uri(self.config.mlflow_uri)\n",
    "        mlflow.set_experiment(\"Optuna-BestModel-TestEval-v1\")\n",
    "        \n",
    "\n",
    "        tracking_url_type_store = urlparse(mlflow.get_tracking_uri()).scheme\n",
    "\n",
    "        with mlflow.start_run(run_name=\"Optuna-BestModel-TestEval\"):\n",
    "            mlflow.log_param(\"model_type\", \"OptunaBest\")\n",
    "            mlflow.log_metrics({\"optuna_test_loss\": self.score[0], \"optuna_test_accuracy\": self.score[1]})\n",
    "            logger.info(\"Logged parameters and metrics to MLflow.\")\n",
    "\n",
    "            if tracking_url_type_store != \"file\":\n",
    "                mlflow.keras.log_model(self.model, \"model\", registered_model_name=\"OptunaBestModel\")\n",
    "                logger.info(\"Model registered to MLflow Registry.\")\n",
    "            else:\n",
    "                mlflow.keras.log_model(self.model, \"model\")\n",
    "                logger.info(\"Model logged to MLflow without registration.\")"
   ],
   "id": "c0b001b8d2bc995a",
   "outputs": [],
   "execution_count": 23
  },
  {
   "metadata": {
    "ExecuteTime": {
     "end_time": "2025-05-15T10:53:30.056497Z",
     "start_time": "2025-05-15T10:53:30.048497Z"
    }
   },
   "cell_type": "code",
   "source": [
    "from cnnClassifier.config.configuration import ConfigurationManager\n",
    "from cnnClassifier.components.data_loader import DataLoader\n",
    "#from cnnClassifier.entity.config_entity import OptunaTestingConfig\n",
    "#from cnnClassifier.components.optuna_evaluation import OptunaEvaluation  # adjust import path accordingly\n",
    "from cnnClassifier import logger"
   ],
   "id": "60e37c6b66d39a3d",
   "outputs": [],
   "execution_count": 24
  },
  {
   "metadata": {
    "ExecuteTime": {
     "end_time": "2025-05-15T10:54:07.480969Z",
     "start_time": "2025-05-15T10:53:30.432016Z"
    }
   },
   "cell_type": "code",
   "source": [
    "try:\n",
    "    config_manager = ConfigurationManager()\n",
    "    \n",
    "    # Load test generator\n",
    "    data_loader_config = config_manager.get_data_loader_config()\n",
    "    data_loader = DataLoader(data_loader_config)\n",
    "    _, _, test_generator, _, _ = data_loader.get_generators()\n",
    "    \n",
    "    # Get optuna test configuration\n",
    "    optuna_test_config = config_manager.get_optuna_test_config()\n",
    "\n",
    "    # Initialize evaluator and run evaluation + logging\n",
    "    evaluator = OptunaEvaluation(optuna_test_config, test_generator)\n",
    "    evaluator.evaluate()\n",
    "    evaluator.log_into_mlflow()\n",
    "\n",
    "except Exception as e:\n",
    "    logger.error(f\"Exception occurred during Optuna model evaluation: {str(e)}\")\n",
    "    raise e\n"
   ],
   "id": "a6ddd02fd50d001b",
   "outputs": [
    {
     "name": "stdout",
     "output_type": "stream",
     "text": [
      "[2025-05-15 12:53:30,445: INFO: common: yaml file: config\\config.yaml loaded successfully]\n",
      "[2025-05-15 12:53:30,457: INFO: common: yaml file: params.yaml loaded successfully]\n",
      "[2025-05-15 12:53:30,459: INFO: common: created directory at: artifacts]\n",
      "[2025-05-15 12:53:30,461: INFO: data_loader: Loading dataframe from file: artifacts/data_split/train.csv]\n",
      "[2025-05-15 12:53:30,501: INFO: data_loader: Dataframe loaded successfully with 8712 records.]\n",
      "[2025-05-15 12:53:30,502: INFO: data_loader: Loading dataframe from file: artifacts/data_split/val.csv]\n",
      "[2025-05-15 12:53:30,511: INFO: data_loader: Dataframe loaded successfully with 1121 records.]\n",
      "[2025-05-15 12:53:30,513: INFO: data_loader: Loading dataframe from file: artifacts/data_split/test.csv]\n",
      "[2025-05-15 12:53:30,527: INFO: data_loader: Dataframe loaded successfully with 2613 records.]\n",
      "[2025-05-15 12:53:31,735: INFO: data_loader: Valid file paths count: 8712]\n",
      "[2025-05-15 12:53:31,851: INFO: data_loader: Valid file paths count: 1121]\n",
      "[2025-05-15 12:53:32,038: INFO: data_loader: Valid file paths count: 2613]\n",
      "[2025-05-15 12:53:32,042: INFO: data_loader: Generators created successfully.]\n",
      "Found 8712 validated image filenames belonging to 4 classes.\n",
      "Found 8712 validated image filenames belonging to 4 classes.\n",
      "Found 1121 validated image filenames belonging to 4 classes.\n",
      "Found 2613 validated image filenames belonging to 4 classes.\n",
      "[2025-05-15 12:53:33,142: INFO: data_loader: lengh of train_df: 8712 & Steps per epoch for training: 272]\n",
      "[2025-05-15 12:53:33,143: INFO: data_loader: Successfully created train<generator object DataLoader.combined_generator at 0x000001E509E3A040>, validation<keras.preprocessing.image.DataFrameIterator object at 0x000001E511282EE0>, and test<keras.preprocessing.image.DataFrameIterator object at 0x000001E50CC53D00> generators.]\n",
      "[2025-05-15 12:53:33,144: INFO: 3666370944: Initialized OptunaEvaluation with given configuration.]\n",
      "[2025-05-15 12:53:33,145: INFO: 3666370944: Starting model evaluation on test dataset...]\n",
      "[2025-05-15 12:53:33,145: INFO: 3666370944: Loading model from path: artifacts\\optuna_best_model\\best_model.keras]\n",
      "82/82 [==============================] - 11s 132ms/step - loss: 0.0031 - accuracy: 0.9996\n",
      "[2025-05-15 12:53:45,107: INFO: 3666370944: Model evaluation completed. Loss: 0.0031195180490612984, Accuracy: 0.9996172785758972]\n",
      "[2025-05-15 12:53:45,108: INFO: common: created directory at: artifacts\\optuna_score_metrics]\n",
      "[2025-05-15 12:53:45,109: INFO: common: json file saved at: artifacts\\optuna_score_metrics\\optuna_test_scores.json]\n",
      "[2025-05-15 12:53:45,110: INFO: 3666370944: Saved evaluation scores at: artifacts\\optuna_score_metrics\\optuna_test_scores.json]\n",
      "[2025-05-15 12:53:45,111: INFO: 3666370944: Logging evaluation results into MLflow...]\n",
      "[2025-05-15 12:53:45,339: INFO: _client: HTTP Request: GET https://dagshub.com/api/v1/repos/DikshantPatel2210/KidneyDiseaseClassification-DLProject \"HTTP/1.1 200 OK\"]\n"
     ]
    },
    {
     "data": {
      "text/plain": [
       "Initialized MLflow to track repo \u001B[32m\"DikshantPatel2210/KidneyDiseaseClassification-DLProject\"\u001B[0m\n"
      ],
      "text/html": [
       "<pre style=\"white-space:pre;overflow-x:auto;line-height:normal;font-family:Menlo,'DejaVu Sans Mono',consolas,'Courier New',monospace\">Initialized MLflow to track repo <span style=\"color: #008000; text-decoration-color: #008000\">\"DikshantPatel2210/KidneyDiseaseClassification-DLProject\"</span>\n",
       "</pre>\n"
      ]
     },
     "metadata": {},
     "output_type": "display_data"
    },
    {
     "name": "stdout",
     "output_type": "stream",
     "text": [
      "[2025-05-15 12:53:45,343: INFO: helpers: Initialized MLflow to track repo \"DikshantPatel2210/KidneyDiseaseClassification-DLProject\"]\n"
     ]
    },
    {
     "data": {
      "text/plain": [
       "Repository DikshantPatel2210/KidneyDiseaseClassification-DLProject initialized!\n"
      ],
      "text/html": [
       "<pre style=\"white-space:pre;overflow-x:auto;line-height:normal;font-family:Menlo,'DejaVu Sans Mono',consolas,'Courier New',monospace\">Repository DikshantPatel2210/KidneyDiseaseClassification-DLProject initialized!\n",
       "</pre>\n"
      ]
     },
     "metadata": {},
     "output_type": "display_data"
    },
    {
     "name": "stdout",
     "output_type": "stream",
     "text": [
      "[2025-05-15 12:53:45,345: INFO: helpers: Repository DikshantPatel2210/KidneyDiseaseClassification-DLProject initialized!]\n",
      "[2025-05-15 12:53:46,354: INFO: 3666370944: Logged parameters and metrics to MLflow.]\n"
     ]
    },
    {
     "name": "stderr",
     "output_type": "stream",
     "text": [
      "2025/05/15 12:53:46 WARNING mlflow.tensorflow: You are saving a TensorFlow Core model or Keras model without a signature. Inference with mlflow.pyfunc.spark_udf() will not work unless the model's pyfunc representation accepts pandas DataFrames as inference inputs.\n"
     ]
    },
    {
     "name": "stdout",
     "output_type": "stream",
     "text": [
      "INFO:tensorflow:Assets written to: C:\\Users\\DIKSHA~1\\AppData\\Local\\Temp\\tmp2l4oq7a5\\model\\data\\model\\assets\n",
      "[2025-05-15 12:53:48,608: INFO: builder_impl: Assets written to: C:\\Users\\DIKSHA~1\\AppData\\Local\\Temp\\tmp2l4oq7a5\\model\\data\\model\\assets]\n"
     ]
    },
    {
     "name": "stderr",
     "output_type": "stream",
     "text": [
      "Registered model 'OptunaBestModel' already exists. Creating a new version of this model...\n",
      "2025/05/15 12:54:07 INFO mlflow.tracking._model_registry.client: Waiting up to 300 seconds for model version to finish creation.                     Model name: OptunaBestModel, version 6\n"
     ]
    },
    {
     "name": "stdout",
     "output_type": "stream",
     "text": [
      "[2025-05-15 12:54:07,294: INFO: 3666370944: Model registered to MLflow Registry.]\n"
     ]
    },
    {
     "name": "stderr",
     "output_type": "stream",
     "text": [
      "Created version '6' of model 'OptunaBestModel'.\n"
     ]
    }
   ],
   "execution_count": 25
  },
  {
   "metadata": {
    "ExecuteTime": {
     "end_time": "2025-05-15T11:50:59.217080Z",
     "start_time": "2025-05-15T11:50:56.380492Z"
    }
   },
   "cell_type": "code",
   "source": "optuna_best_model = tf.keras.models.load_model(\"artifacts/optuna_best_model/best_model.keras\")",
   "id": "5bf97ba6a7211225",
   "outputs": [],
   "execution_count": 7
  },
  {
   "metadata": {
    "ExecuteTime": {
     "end_time": "2025-05-15T12:01:51.434995Z",
     "start_time": "2025-05-15T12:01:51.414993Z"
    }
   },
   "cell_type": "code",
   "source": "optuna_best_model.summary()",
   "id": "bdd83f35b3bdfb3d",
   "outputs": [
    {
     "name": "stdout",
     "output_type": "stream",
     "text": [
      "Model: \"sequential_1\"\n",
      "_________________________________________________________________\n",
      " Layer (type)                Output Shape              Param #   \n",
      "=================================================================\n",
      " conv2d_1 (Conv2D)           (None, 112, 112, 32)      320       \n",
      "                                                                 \n",
      " batch_normalization_1 (Batc  (None, 112, 112, 32)     128       \n",
      " hNormalization)                                                 \n",
      "                                                                 \n",
      " max_pooling2d_1 (MaxPooling  (None, 56, 56, 32)       0         \n",
      " 2D)                                                             \n",
      "                                                                 \n",
      " conv2d_2 (Conv2D)           (None, 28, 28, 64)        18496     \n",
      "                                                                 \n",
      " batch_normalization_2 (Batc  (None, 28, 28, 64)       256       \n",
      " hNormalization)                                                 \n",
      "                                                                 \n",
      " max_pooling2d_2 (MaxPooling  (None, 14, 14, 64)       0         \n",
      " 2D)                                                             \n",
      "                                                                 \n",
      " conv2d_3 (Conv2D)           (None, 7, 7, 64)          36928     \n",
      "                                                                 \n",
      " batch_normalization_3 (Batc  (None, 7, 7, 64)         256       \n",
      " hNormalization)                                                 \n",
      "                                                                 \n",
      " max_pooling2d_3 (MaxPooling  (None, 4, 4, 64)         0         \n",
      " 2D)                                                             \n",
      "                                                                 \n",
      " conv2d_4 (Conv2D)           (None, 2, 2, 512)         295424    \n",
      "                                                                 \n",
      " batch_normalization_4 (Batc  (None, 2, 2, 512)        2048      \n",
      " hNormalization)                                                 \n",
      "                                                                 \n",
      " max_pooling2d_4 (MaxPooling  (None, 1, 1, 512)        0         \n",
      " 2D)                                                             \n",
      "                                                                 \n",
      " global_average_pooling2d (G  (None, 512)              0         \n",
      " lobalAveragePooling2D)                                          \n",
      "                                                                 \n",
      " dense (Dense)               (None, 64)                32832     \n",
      "                                                                 \n",
      " batch_normalization_5 (Batc  (None, 64)               256       \n",
      " hNormalization)                                                 \n",
      "                                                                 \n",
      " dropout (Dropout)           (None, 64)                0         \n",
      "                                                                 \n",
      " dense_1 (Dense)             (None, 4)                 260       \n",
      "                                                                 \n",
      "=================================================================\n",
      "Total params: 387,204\n",
      "Trainable params: 385,732\n",
      "Non-trainable params: 1,472\n",
      "_________________________________________________________________\n"
     ]
    }
   ],
   "execution_count": 12
  },
  {
   "metadata": {
    "ExecuteTime": {
     "end_time": "2025-05-15T15:55:25.949944Z",
     "start_time": "2025-05-15T15:55:25.147314Z"
    }
   },
   "cell_type": "code",
   "source": [
    "import os\n",
    "import numpy as np\n",
    "from tensorflow.keras.preprocessing import image\n",
    "from tensorflow.keras.models import load_model  # in case you need to load the model\n",
    "from pathlib import Path\n",
    "\n",
    "# Set the directory containing images\n",
    "img_dir = Path(\"artifacts/Random kidney CT scan images\")\n",
    "image_paths = list(img_dir.glob(\"*.jpg\")) + list(img_dir.glob(\"*.png\"))\n",
    "\n",
    "# Load the model if not already loaded\n",
    "# final_model = load_model(\"path_to_your_trained_model.h5\")\n",
    "\n",
    "# Parameters\n",
    "target_size = (224, 224)\n",
    "predictions = []\n",
    "\n",
    "for img_path in image_paths:\n",
    "    try:\n",
    "        img = image.load_img(img_path, target_size=target_size, color_mode=\"grayscale\")\n",
    "        img_array = image.img_to_array(img) / 255.0\n",
    "        img_array = np.expand_dims(img_array, axis=0)  # Add batch dimension\n",
    "\n",
    "        prediction = optuna_best_model.predict(img_array)\n",
    "        pred_index = np.argmax(prediction)\n",
    "\n",
    "        predictions.append({\n",
    "            \"filename\": img_path.name,\n",
    "            \"prediction_index\": int(pred_index),\n",
    "            \"probabilities\": prediction.tolist()[0]  # Convert to list for readability/logging\n",
    "        })\n",
    "\n",
    "        print(f\"{img_path.name} → Class {pred_index}, Probabilities: {prediction.tolist()[0]}\")\n",
    "\n",
    "    except Exception as e:\n",
    "        print(f\"Failed to process {img_path.name}: {e}\")"
   ],
   "id": "d6d4aa998e517c5f",
   "outputs": [
    {
     "name": "stdout",
     "output_type": "stream",
     "text": [
      "1168.jpg → Class 3, Probabilities: [0.0006757155060768127, 0.0028174221515655518, 0.001478305202908814, 0.995028555393219]\n",
      "istockphoto-1009903486-612x612.jpg → Class 0, Probabilities: [0.5347994565963745, 0.0003213557065464556, 0.36142751574516296, 0.10345160216093063]\n",
      "istockphoto-1145702331-612x612.jpg → Class 3, Probabilities: [0.1841907799243927, 3.6089479635847965e-06, 0.05453867465257645, 0.7612670063972473]\n",
      "istockphoto-1173159873-612x612.jpg → Class 2, Probabilities: [0.024105843156576157, 3.087478762608953e-05, 0.9756999015808105, 0.00016339738795068115]\n",
      "istockphoto-1173165072-612x612.jpg → Class 0, Probabilities: [0.9829535484313965, 0.00016752778901718557, 0.011347481980919838, 0.005531479138880968]\n",
      "istockphoto-1306894722-612x612.jpg → Class 3, Probabilities: [0.0005721120396628976, 0.022705284878611565, 0.0003431475779507309, 0.9763794541358948]\n",
      "istockphoto-1716113526-612x612.jpg → Class 2, Probabilities: [0.10818924754858017, 0.009340640157461166, 0.8812748193740845, 0.0011953167850151658]\n",
      "istockphoto-2083863825-612x612.jpg → Class 0, Probabilities: [0.971510648727417, 1.6343632523785345e-05, 0.027946704998612404, 0.0005262814229354262]\n",
      "istockphoto-2152035075-612x612.jpg → Class 3, Probabilities: [0.0017993954243138433, 0.00951163750141859, 0.029458336532115936, 0.9592306017875671]\n",
      "istockphoto-2197213394-612x612.jpg → Class 0, Probabilities: [0.6784606575965881, 7.581687896163203e-06, 0.32148051261901855, 5.118496119393967e-05]\n",
      "istockphoto-2203330340-612x612.jpg → Class 0, Probabilities: [0.9989197254180908, 0.00015729485312476754, 2.1034588826296385e-06, 0.0009208448464050889]\n",
      "istockphoto-2203330410-612x612 (1).jpg → Class 0, Probabilities: [0.9901579022407532, 0.0006178785697557032, 0.007172327488660812, 0.0020518878009170294]\n",
      "istockphoto-2203330410-612x612.jpg → Class 0, Probabilities: [0.9901579022407532, 0.0006178785697557032, 0.007172327488660812, 0.0020518878009170294]\n",
      "istockphoto-462099599-612x612.jpg → Class 2, Probabilities: [0.011411602608859539, 0.0002186330093536526, 0.5698493123054504, 0.4185204803943634]\n",
      "renal-tumour.jpg → Class 0, Probabilities: [0.9930431842803955, 2.669703217175745e-12, 3.7195292114807456e-25, 0.006956791505217552]\n"
     ]
    }
   ],
   "execution_count": 32
  },
  {
   "metadata": {
    "ExecuteTime": {
     "end_time": "2025-05-15T12:07:53.509434Z",
     "start_time": "2025-05-15T12:07:53.433433Z"
    }
   },
   "cell_type": "code",
   "source": [
    "from tensorflow.keras.preprocessing import image\n",
    "\n",
    "# Define the image path\n",
    "img_path = \"artifacts/data_ingestion/CT-KIDNEY-DATASET-Normal-Cyst-Tumor-Stone/CT-KIDNEY-DATASET-Normal-Cyst-Tumor-Stone\\Cyst\\Cyst- (1029).jpg\"\n",
    "\n",
    "# Load and preprocess the image\n",
    "img = image.load_img(img_path, target_size=(224, 224), color_mode=\"grayscale\")  # match your training size\n",
    "img_array = image.img_to_array(img)\n",
    "img_array = img_array / 255.0  # normalize if you used rescale=1./255 during training\n",
    "img_array = np.expand_dims(img_array, axis=0)  # add batch dimension\n",
    "\n",
    "# Predict\n",
    "prediction = optuna_best_model.predict(img_array)\n",
    "pred_index = np.argmax(prediction)"
   ],
   "id": "ada999983c9f89cb",
   "outputs": [],
   "execution_count": 16
  },
  {
   "metadata": {
    "ExecuteTime": {
     "end_time": "2025-05-15T12:07:54.056819Z",
     "start_time": "2025-05-15T12:07:54.045821Z"
    }
   },
   "cell_type": "code",
   "source": "pred_index",
   "id": "b4519b54485d472a",
   "outputs": [
    {
     "data": {
      "text/plain": [
       "1"
      ]
     },
     "execution_count": 17,
     "metadata": {},
     "output_type": "execute_result"
    }
   ],
   "execution_count": 17
  },
  {
   "metadata": {},
   "cell_type": "code",
   "outputs": [],
   "execution_count": null,
   "source": "",
   "id": "35bfca7380c1e57c"
  }
 ],
 "metadata": {
  "kernelspec": {
   "display_name": "Python 3",
   "language": "python",
   "name": "python3"
  },
  "language_info": {
   "codemirror_mode": {
    "name": "ipython",
    "version": 2
   },
   "file_extension": ".py",
   "mimetype": "text/x-python",
   "name": "python",
   "nbconvert_exporter": "python",
   "pygments_lexer": "ipython2",
   "version": "2.7.6"
  }
 },
 "nbformat": 4,
 "nbformat_minor": 5
}
