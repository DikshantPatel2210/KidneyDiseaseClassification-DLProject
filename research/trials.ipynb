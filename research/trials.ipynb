{
 "cells": [
  {
   "cell_type": "code",
   "id": "initial_id",
   "metadata": {
    "collapsed": true,
    "ExecuteTime": {
     "end_time": "2025-03-29T11:37:29.461287Z",
     "start_time": "2025-03-29T11:37:29.443284Z"
    }
   },
   "source": "import os",
   "outputs": [],
   "execution_count": 1
  },
  {
   "metadata": {
    "ExecuteTime": {
     "end_time": "2025-03-29T11:40:23.199504Z",
     "start_time": "2025-03-29T11:40:23.183505Z"
    }
   },
   "cell_type": "code",
   "source": "URL =  \"https://drive.google.com/file/d/1zzMlKIMcinhAI8TsLq6CnABen3n0dCIV/view?usp=drive_link\"",
   "id": "3abb31fb703b57fe",
   "outputs": [],
   "execution_count": 2
  },
  {
   "metadata": {},
   "cell_type": "markdown",
   "source": "",
   "id": "2f5fb14da59a82d5"
  },
  {
   "metadata": {
    "ExecuteTime": {
     "end_time": "2025-03-29T11:43:47.600143Z",
     "start_time": "2025-03-29T11:43:47.234918Z"
    }
   },
   "cell_type": "code",
   "source": "import gdown",
   "id": "9925d208ef5b7e02",
   "outputs": [],
   "execution_count": 7
  },
  {
   "metadata": {
    "ExecuteTime": {
     "end_time": "2025-03-29T11:40:45.848710Z",
     "start_time": "2025-03-29T11:40:45.838668Z"
    }
   },
   "cell_type": "code",
   "source": [
    "ID = URL.split(\"/\")[-2]\n",
    "ID"
   ],
   "id": "7f7de6a2a7dc846d",
   "outputs": [
    {
     "data": {
      "text/plain": [
       "'1zzMlKIMcinhAI8TsLq6CnABen3n0dCIV'"
      ]
     },
     "execution_count": 4,
     "metadata": {},
     "output_type": "execute_result"
    }
   ],
   "execution_count": 4
  },
  {
   "metadata": {
    "ExecuteTime": {
     "end_time": "2025-03-29T11:42:19.971941Z",
     "start_time": "2025-03-29T11:42:19.962941Z"
    }
   },
   "cell_type": "code",
   "source": "prefix = \"https://drive.google.com/uc?export=download&id=\"",
   "id": "5ecc9bded072541d",
   "outputs": [],
   "execution_count": 5
  },
  {
   "metadata": {
    "ExecuteTime": {
     "end_time": "2025-03-29T11:45:10.136239Z",
     "start_time": "2025-03-29T11:45:10.122241Z"
    }
   },
   "cell_type": "code",
   "source": [
    "Download_URL = prefix + ID\n",
    "Download_URL"
   ],
   "id": "3d6b172f8e36d1b7",
   "outputs": [
    {
     "data": {
      "text/plain": [
       "'https://drive.google.com/uc?export=download&id=1zzMlKIMcinhAI8TsLq6CnABen3n0dCIV'"
      ]
     },
     "execution_count": 9,
     "metadata": {},
     "output_type": "execute_result"
    }
   ],
   "execution_count": 9
  },
  {
   "metadata": {
    "ExecuteTime": {
     "end_time": "2025-03-29T11:48:48.171431Z",
     "start_time": "2025-03-29T11:45:11.184668Z"
    }
   },
   "cell_type": "code",
   "source": "gdown.download(Download_URL, \"Kidney_Disease-Classification\")",
   "id": "6e21eab9c4b8dd2a",
   "outputs": [
    {
     "name": "stderr",
     "output_type": "stream",
     "text": [
      "Downloading...\n",
      "From (original): https://drive.google.com/uc?export=download&id=1zzMlKIMcinhAI8TsLq6CnABen3n0dCIV\n",
      "From (redirected): https://drive.google.com/uc?export=download&id=1zzMlKIMcinhAI8TsLq6CnABen3n0dCIV&confirm=t&uuid=8f9a5a3f-a857-4efc-8b54-2700e51a230f\n",
      "To: C:\\Users\\DIKSHANT PATEL\\Kidney-Disease-Classification\\research\\KKidney_Disease-Classification\n",
      "100%|██████████| 1.63G/1.63G [03:31<00:00, 7.68MB/s] \n"
     ]
    },
    {
     "data": {
      "text/plain": [
       "'KKidney_Disease-Classification'"
      ]
     },
     "execution_count": 10,
     "metadata": {},
     "output_type": "execute_result"
    }
   ],
   "execution_count": 10
  },
  {
   "metadata": {},
   "cell_type": "code",
   "outputs": [],
   "execution_count": null,
   "source": "",
   "id": "c2f9fdaa09f43981"
  }
 ],
 "metadata": {
  "kernelspec": {
   "display_name": "Python 3",
   "language": "python",
   "name": "python3"
  },
  "language_info": {
   "codemirror_mode": {
    "name": "ipython",
    "version": 2
   },
   "file_extension": ".py",
   "mimetype": "text/x-python",
   "name": "python",
   "nbconvert_exporter": "python",
   "pygments_lexer": "ipython2",
   "version": "2.7.6"
  }
 },
 "nbformat": 4,
 "nbformat_minor": 5
}
