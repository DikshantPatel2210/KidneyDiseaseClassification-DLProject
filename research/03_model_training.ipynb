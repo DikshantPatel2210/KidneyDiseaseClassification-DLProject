{
 "cells": [
  {
   "metadata": {
    "ExecuteTime": {
     "end_time": "2025-03-30T16:30:18.575502Z",
     "start_time": "2025-03-30T16:30:18.560896Z"
    }
   },
   "cell_type": "code",
   "source": "import os",
   "id": "e90073cd17c82f33",
   "outputs": [],
   "execution_count": 22
  },
  {
   "metadata": {
    "ExecuteTime": {
     "end_time": "2025-03-30T16:30:18.993319Z",
     "start_time": "2025-03-30T16:30:18.970281Z"
    }
   },
   "cell_type": "code",
   "source": "%pwd",
   "id": "9ed684fac2dc42b1",
   "outputs": [
    {
     "data": {
      "text/plain": [
       "'C:\\\\Users\\\\DIKSHANT PATEL\\\\Kidney-Disease-Classification\\\\research'"
      ]
     },
     "execution_count": 23,
     "metadata": {},
     "output_type": "execute_result"
    }
   ],
   "execution_count": 23
  },
  {
   "metadata": {
    "ExecuteTime": {
     "end_time": "2025-03-30T16:30:53.217165Z",
     "start_time": "2025-03-30T16:30:53.207131Z"
    }
   },
   "cell_type": "code",
   "source": "os.chdir(\"C:\\\\Users\\\\DIKSHANT PATEL\\\\Kidney-Disease-Classification\")",
   "id": "90039d048cdba316",
   "outputs": [],
   "execution_count": 25
  },
  {
   "metadata": {
    "ExecuteTime": {
     "end_time": "2025-03-30T16:30:54.156560Z",
     "start_time": "2025-03-30T16:30:54.143561Z"
    }
   },
   "cell_type": "code",
   "source": [
    "import tensorflow as tf\n",
    "\n",
    "# Check if TensorFlow is using GPU\n",
    "if tf.config.list_physical_devices('GPU'):\n",
    "    print(\"TensorFlow is using the GPU\")\n",
    "else:\n",
    "    print(\"TensorFlow is not using the GPU\")"
   ],
   "id": "a95fded6d2ab178e",
   "outputs": [
    {
     "name": "stdout",
     "output_type": "stream",
     "text": [
      "TensorFlow is using the GPU\n"
     ]
    }
   ],
   "execution_count": 26
  },
  {
   "metadata": {
    "ExecuteTime": {
     "end_time": "2025-03-30T16:30:54.450125Z",
     "start_time": "2025-03-30T16:30:54.438093Z"
    }
   },
   "cell_type": "code",
   "source": "print(tf.__version__)",
   "id": "b11207bb6b93ac5a",
   "outputs": [
    {
     "name": "stdout",
     "output_type": "stream",
     "text": [
      "2.7.0\n"
     ]
    }
   ],
   "execution_count": 27
  },
  {
   "metadata": {
    "ExecuteTime": {
     "end_time": "2025-03-30T16:30:54.635932Z",
     "start_time": "2025-03-30T16:30:54.625945Z"
    }
   },
   "cell_type": "code",
   "source": "os.chdir(\"C:\\\\Users\\\\DIKSHANT PATEL\\\\Kidney-Disease-Classification\")",
   "id": "52d215cdfaaa1822",
   "outputs": [],
   "execution_count": 28
  },
  {
   "metadata": {
    "ExecuteTime": {
     "end_time": "2025-03-30T16:30:54.838160Z",
     "start_time": "2025-03-30T16:30:54.825161Z"
    }
   },
   "cell_type": "code",
   "source": "%pwd",
   "id": "1088019f871d9ea1",
   "outputs": [
    {
     "data": {
      "text/plain": [
       "'C:\\\\Users\\\\DIKSHANT PATEL\\\\Kidney-Disease-Classification'"
      ]
     },
     "execution_count": 29,
     "metadata": {},
     "output_type": "execute_result"
    }
   ],
   "execution_count": 29
  },
  {
   "metadata": {
    "ExecuteTime": {
     "end_time": "2025-03-30T16:30:54.995685Z",
     "start_time": "2025-03-30T16:30:54.978650Z"
    }
   },
   "cell_type": "code",
   "source": [
    "from dataclasses import dataclass\n",
    "from pathlib import Path\n",
    "\n",
    "@dataclass(frozen = True)\n",
    "class TrainingConfig:\n",
    "    root_dir: Path\n",
    "    trained_model_path: Path\n",
    "    updated_base_model_path: Path\n",
    "    training_data: Path\n",
    "    params_epochs: int\n",
    "    params_batch_size: int\n",
    "    params_is_augmentation: bool\n",
    "    params_image_size: list"
   ],
   "id": "188f7d26de41773e",
   "outputs": [],
   "execution_count": 30
  },
  {
   "metadata": {
    "ExecuteTime": {
     "end_time": "2025-03-30T16:30:55.167277Z",
     "start_time": "2025-03-30T16:30:55.151277Z"
    }
   },
   "cell_type": "code",
   "source": [
    "from cnnClassifier.constants import *\n",
    "from cnnClassifier.utils.common import read_yaml, create_directories\n",
    "import tensorflow as tf"
   ],
   "id": "997e9b79ced149e3",
   "outputs": [],
   "execution_count": 31
  },
  {
   "metadata": {
    "ExecuteTime": {
     "end_time": "2025-03-30T16:30:55.366429Z",
     "start_time": "2025-03-30T16:30:55.343394Z"
    }
   },
   "cell_type": "code",
   "source": [
    "class ConfigurationManager:\n",
    "    def __init__(self, config_filepath = CONFIG_FILE_PATH, params_filepath = PARAMS_FILE_PATH):\n",
    "        \n",
    "        self.config = read_yaml(config_filepath)\n",
    "        self.params = read_yaml(params_filepath)\n",
    "        \n",
    "        create_directories([self.config.artifacts_roots])\n",
    "        \n",
    "    def get_training_config(self) -> TrainingConfig:\n",
    "        training = self.config.training\n",
    "        prepare_base_model = self.config.prepare_base_model\n",
    "        params = self.params\n",
    "        training_data = os.path.join(self.config.data_ingestion.unzip_dir, \"CT-KIDNEY-DATASET-Normal-Cyst-Tumor-Stone/CT-KIDNEY-DATASET-Normal-Cyst-Tumor-Stone\")\n",
    "        create_directories([Path(training.root_dir)])\n",
    "        \n",
    "        \n",
    "        training_config = TrainingConfig(\n",
    "            root_dir = Path(training.root_dir),\n",
    "            trained_model_path = Path(training.trained_model_path),\n",
    "            updated_base_model_path = Path(prepare_base_model.updated_base_model_path),\n",
    "            training_data = Path(training_data),\n",
    "            params_epochs = params.EPOCHS,\n",
    "            params_batch_size = params.BATCH_SIZE,\n",
    "            params_is_augmentation = params.AUGMENTATION,\n",
    "            params_image_size = params.IMAGE_SIZE\n",
    "        )\n",
    "        return training_config"
   ],
   "id": "1c02c1e7bc24ec6",
   "outputs": [],
   "execution_count": 32
  },
  {
   "metadata": {
    "ExecuteTime": {
     "end_time": "2025-03-30T16:30:55.773323Z",
     "start_time": "2025-03-30T16:30:55.763281Z"
    }
   },
   "cell_type": "code",
   "source": [
    "import tensorflow  as tf\n",
    "import time\n",
    "from zipfile import ZipFile\n",
    "import urllib.request as request\n",
    "import os\n",
    "\n",
    "\n"
   ],
   "id": "d4c1dd096deed097",
   "outputs": [],
   "execution_count": 33
  },
  {
   "metadata": {
    "ExecuteTime": {
     "end_time": "2025-03-30T16:30:55.988965Z",
     "start_time": "2025-03-30T16:30:55.978964Z"
    }
   },
   "cell_type": "code",
   "source": [
    "class Training:\n",
    "    def __init__(self, config: TrainingConfig):\n",
    "        self.config = config\n",
    "        \n",
    "    def get_base_model(self):\n",
    "        self.model = tf.keras.models.load_model(\n",
    "            self.config.updated_base_model_path\n",
    "        )\n",
    "    \n",
    "    def train_valid_generator(self):\n",
    "        \n",
    "        datagenerator_kwargs = dict(\n",
    "            rescale =1./255 ,\n",
    "            validation_split = 0.20\n",
    "        )\n",
    "        \n",
    "        dataflow_kwargs = dict(\n",
    "            target_size = self.config.params_image_size[:-1],\n",
    "            batch_size = self.config.params_batch_size,\n",
    "            interpolation = \"bilinear\"\n",
    "        )\n",
    "        \n",
    "        valid_datagenerator = tf.keras.preprocessing.image.ImageDataGenerator(\n",
    "            **datagenerator_kwargs\n",
    "        )\n",
    "        \n",
    "        self.valid_generator = valid_datagenerator.flow_from_directory(\n",
    "            directory=self.config.training_data,\n",
    "            subset = \"validation\",\n",
    "            shuffle = False,\n",
    "            **dataflow_kwargs\n",
    "        )\n",
    "        \n",
    "        if self.config.params_is_augmentation:\n",
    "            train_datagenerator = tf.keras.preprocessing.image.ImageDataGenerator(\n",
    "                rotation_range = 40,\n",
    "                horizontal_flip = True,\n",
    "                width_shift_range = 0.2,\n",
    "                height_shift_range = 0.2,\n",
    "                shear_range = 0.2,\n",
    "                zoom_range = 0.2, \n",
    "                **datagenerator_kwargs\n",
    "            )\n",
    "        else:\n",
    "            train_datagenerator = valid_datagenerator\n",
    "            \n",
    "        self.train_generator = train_datagenerator.flow_from_directory(\n",
    "            directory = self.config.training_data,\n",
    "            subset = \"training\",\n",
    "            shuffle = True,\n",
    "            **dataflow_kwargs\n",
    "        )\n",
    "        \n",
    "    @staticmethod\n",
    "    def save_model(path: Path, model: tf.keras.Model):\n",
    "        model.save(path)\n",
    "        \n",
    "    def train(self):\n",
    "        self.steps_per_epoch = self.train_generator.samples// self.train_generator.batch_size\n",
    "        self.validation_steps = self.valid_generator.samples// self.valid_generator.batch_size\n",
    "        \n",
    "        \n",
    "        self.model.fit(\n",
    "            self.train_generator,\n",
    "            epochs = self.config.params_epochs,\n",
    "            steps_per_epoch= self.steps_per_epoch,\n",
    "            validation_steps= self.validation_steps,\n",
    "            validation_data= self.valid_generator,\n",
    "            #callbacks= callback_list\n",
    "        )\n",
    "        \n",
    "        self.save_model(\n",
    "            path = self.config.trained_model_path,\n",
    "            model= self.model\n",
    "        )\n",
    "        \n",
    "        "
   ],
   "id": "4f4bb798f83b4611",
   "outputs": [],
   "execution_count": 34
  },
  {
   "metadata": {
    "ExecuteTime": {
     "end_time": "2025-03-30T16:34:19.128319Z",
     "start_time": "2025-03-30T16:30:56.173156Z"
    }
   },
   "cell_type": "code",
   "source": [
    "try: \n",
    "    config = ConfigurationManager()\n",
    "    training_config = config.get_training_config()\n",
    "    training = Training(config = training_config)\n",
    "    training.get_base_model()\n",
    "    training.train_valid_generator()\n",
    "    training.train()\n",
    "\n",
    "except Exception as e:\n",
    "    raise e"
   ],
   "id": "7355920c15071b0c",
   "outputs": [
    {
     "name": "stdout",
     "output_type": "stream",
     "text": [
      "[2025-03-30 18:30:56,179: INFO: common: yaml file: config\\config.yaml loaded successfully]\n",
      "[2025-03-30 18:30:56,182: INFO: common: yaml file: params.yaml loaded successfully]\n",
      "[2025-03-30 18:30:56,183: INFO: common: created directory at: artifacts]\n",
      "[2025-03-30 18:30:56,184: INFO: common: created directory at: artifacts\\training]\n",
      "Found 2487 images belonging to 4 classes.\n",
      "Found 9959 images belonging to 4 classes.\n",
      "622/622 [==============================] - 200s 302ms/step - loss: 13.9654 - accuracy: 0.4139 - val_loss: 12.8642 - val_accuracy: 0.2512\n"
     ]
    }
   ],
   "execution_count": 35
  },
  {
   "metadata": {},
   "cell_type": "code",
   "outputs": [],
   "execution_count": null,
   "source": "",
   "id": "782a698d9454ef39"
  }
 ],
 "metadata": {
  "kernelspec": {
   "display_name": "Python 3",
   "language": "python",
   "name": "python3"
  },
  "language_info": {
   "codemirror_mode": {
    "name": "ipython",
    "version": 2
   },
   "file_extension": ".py",
   "mimetype": "text/x-python",
   "name": "python",
   "nbconvert_exporter": "python",
   "pygments_lexer": "ipython2",
   "version": "2.7.6"
  }
 },
 "nbformat": 4,
 "nbformat_minor": 5
}
