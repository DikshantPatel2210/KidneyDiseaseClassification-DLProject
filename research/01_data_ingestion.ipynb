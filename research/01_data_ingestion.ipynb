{
 "cells": [
  {
   "cell_type": "code",
   "id": "initial_id",
   "metadata": {
    "collapsed": true,
    "ExecuteTime": {
     "end_time": "2025-03-29T11:49:22.012340Z",
     "start_time": "2025-03-29T11:49:21.995289Z"
    }
   },
   "source": "import os",
   "outputs": [],
   "execution_count": 1
  },
  {
   "metadata": {
    "ExecuteTime": {
     "end_time": "2025-03-29T12:50:44.618333Z",
     "start_time": "2025-03-29T12:50:44.604320Z"
    }
   },
   "cell_type": "code",
   "source": "%pwd",
   "id": "80ab27073ac6b0ec",
   "outputs": [
    {
     "data": {
      "text/plain": [
       "'C:\\\\Users\\\\DIKSHANT PATEL\\\\Kidney-Disease-Classification\\\\research'"
      ]
     },
     "execution_count": 12,
     "metadata": {},
     "output_type": "execute_result"
    }
   ],
   "execution_count": 12
  },
  {
   "metadata": {
    "ExecuteTime": {
     "end_time": "2025-03-29T12:50:59.088171Z",
     "start_time": "2025-03-29T12:50:59.081170Z"
    }
   },
   "cell_type": "code",
   "source": "os.chdir(\"../\")",
   "id": "c4653154e93b990a",
   "outputs": [],
   "execution_count": 13
  },
  {
   "metadata": {
    "ExecuteTime": {
     "end_time": "2025-03-29T12:51:04.239669Z",
     "start_time": "2025-03-29T12:51:04.233672Z"
    }
   },
   "cell_type": "code",
   "source": "%pwd",
   "id": "c1564a4fe3d969d8",
   "outputs": [
    {
     "data": {
      "text/plain": [
       "'C:\\\\Users\\\\DIKSHANT PATEL\\\\Kidney-Disease-Classification'"
      ]
     },
     "execution_count": 14,
     "metadata": {},
     "output_type": "execute_result"
    }
   ],
   "execution_count": 14
  },
  {
   "metadata": {
    "ExecuteTime": {
     "end_time": "2025-03-29T12:51:06.259940Z",
     "start_time": "2025-03-29T12:51:06.253905Z"
    }
   },
   "cell_type": "code",
   "source": [
    "from cnnClassifier.constants import *\n",
    "from cnnClassifier.utils.common import read_yaml, create_directories"
   ],
   "id": "ac7043b21ef826ab",
   "outputs": [],
   "execution_count": 15
  },
  {
   "metadata": {
    "ExecuteTime": {
     "end_time": "2025-03-29T12:51:06.805361Z",
     "start_time": "2025-03-29T12:51:06.794386Z"
    }
   },
   "cell_type": "code",
   "source": [
    "from dataclasses import dataclass\n",
    "from pathlib import Path\n",
    "\n",
    "@dataclass(frozen = True)\n",
    "class DataIngestionConfig:\n",
    "    root_dir: Path\n",
    "    source_URL: str\n",
    "    local_data_file: Path\n",
    "    unzip_dir :Path"
   ],
   "id": "bb8c529aed4acd47",
   "outputs": [],
   "execution_count": 16
  },
  {
   "metadata": {
    "ExecuteTime": {
     "end_time": "2025-03-29T12:57:37.029277Z",
     "start_time": "2025-03-29T12:57:37.021275Z"
    }
   },
   "cell_type": "code",
   "source": [
    "class ConfigurationManager:\n",
    "    def __init__(self, config_filepath = CONFIG_FILE_PATH, params_filepath= PARAMS_FILE_PATH):\n",
    "        self.config = read_yaml(config_filepath)\n",
    "        self.params = read_yaml(params_filepath)\n",
    "        \n",
    "        create_directories([self.config.artifacts_roots])\n",
    "        \n",
    "    def get_data_ingestion_config(self) -> DataIngestionConfig:\n",
    "        config = self.config.data_ingestion\n",
    "        \n",
    "        create_directories([config.root_dir])\n",
    "        \n",
    "        data_ingestion_config = DataIngestionConfig(\n",
    "            root_dir = config.root_dir,\n",
    "            source_URL = config.source_URL,\n",
    "            local_data_file = config.local_data_file,\n",
    "            unzip_dir = config.unzip_dir\n",
    "        )\n",
    "        return data_ingestion_config\n",
    "        "
   ],
   "id": "8a57bb79b06c9918",
   "outputs": [],
   "execution_count": 24
  },
  {
   "metadata": {
    "ExecuteTime": {
     "end_time": "2025-03-29T12:57:38.485089Z",
     "start_time": "2025-03-29T12:57:38.480055Z"
    }
   },
   "cell_type": "code",
   "source": [
    "import os\n",
    "import zipfile\n",
    "import gdown\n",
    "from cnnClassifier import logger\n",
    "from cnnClassifier.utils.common import get_size"
   ],
   "id": "42672a08134301f3",
   "outputs": [],
   "execution_count": 25
  },
  {
   "metadata": {
    "ExecuteTime": {
     "end_time": "2025-03-29T13:37:57.492001Z",
     "start_time": "2025-03-29T13:37:57.473473Z"
    }
   },
   "cell_type": "code",
   "source": [
    "class DataIngestion: \n",
    "    def __init__(self, config: DataIngestionConfig):\n",
    "        self.config = config\n",
    "        \n",
    "    def download_file(self) -> str:\n",
    "        \"\"\"\n",
    "        Fetch data from URL\n",
    "        \"\"\"\n",
    "        try:\n",
    "            dataset_url = self.config.source_URL\n",
    "            zip_download_dir = self.config.local_data_file\n",
    "\n",
    "            os.makedirs(os.path.dirname(zip_download_dir), exist_ok=True)\n",
    "            logger.info(f\"Downloading data from {dataset_url} into file {zip_download_dir}\")\n",
    "\n",
    "           \n",
    "            gdown.download(url=dataset_url, output=zip_download_dir, quiet=False, fuzzy=True)\n",
    "\n",
    "            logger.info(f\"Downloaded data successfully to {zip_download_dir}\")\n",
    "\n",
    "        except Exception as e:\n",
    "            raise Exception(f\"Error in downloading file: {e}\")\n",
    "            \n",
    "    def extract_zip_file(self):\n",
    "        \"\"\"\n",
    "        Extracts the zip file into the data directory.\n",
    "        \"\"\"\n",
    "        try:\n",
    "            unzip_path = self.config.unzip_dir\n",
    "            zip_path = self.config.local_data_file\n",
    "\n",
    "            if not os.path.exists(zip_path):\n",
    "                raise FileNotFoundError(f\"ZIP file not found at {zip_path}\")\n",
    "\n",
    "            if not zipfile.is_zipfile(zip_path):\n",
    "                raise ValueError(f\"The file is not a valid ZIP file: {zip_path}\")\n",
    "\n",
    "            os.makedirs(unzip_path, exist_ok=True)\n",
    "            with zipfile.ZipFile(zip_path, 'r') as zip_ref:\n",
    "                zip_ref.extractall(unzip_path)\n",
    "\n",
    "            logger.info(f\" Successfully extracted files to {unzip_path}\")\n",
    "\n",
    "        except Exception as e:\n",
    "            raise Exception(f\"Error in extracting zip file: {e}\")"
   ],
   "id": "4e6f690c1de676a8",
   "outputs": [],
   "execution_count": 33
  },
  {
   "metadata": {
    "ExecuteTime": {
     "end_time": "2025-03-29T13:42:08.838104Z",
     "start_time": "2025-03-29T13:37:59.436864Z"
    }
   },
   "cell_type": "code",
   "source": [
    "try:\n",
    "    config = ConfigurationManager()\n",
    "    data_ingestion_config = config.get_data_ingestion_config()\n",
    "    data_ingestion = DataIngestion(config = data_ingestion_config)\n",
    "    data_ingestion.download_file()\n",
    "    data_ingestion.extract_zip_file()\n",
    "except Exception as e:\n",
    "    raise e"
   ],
   "id": "d45b406fb732edf",
   "outputs": [
    {
     "name": "stdout",
     "output_type": "stream",
     "text": [
      "[2025-03-29 14:37:59,442: INFO: common: yaml file: config\\config.yaml loaded successfully]\n",
      "[2025-03-29 14:37:59,444: INFO: common: yaml file: params.yaml loaded successfully]\n",
      "[2025-03-29 14:37:59,445: INFO: common: created directory at: artifacts]\n",
      "[2025-03-29 14:37:59,447: INFO: common: created directory at: artifacts/ data_ingestion]\n",
      "[2025-03-29 14:37:59,448: INFO: 856075502: Downloading data from https://drive.google.com/file/d/1zzMlKIMcinhAI8TsLq6CnABen3n0dCIV/view?usp=drive_link into file artifacts/data_ingestion/data.zip]\n"
     ]
    },
    {
     "name": "stderr",
     "output_type": "stream",
     "text": [
      "Downloading...\n",
      "From (original): https://drive.google.com/uc?id=1zzMlKIMcinhAI8TsLq6CnABen3n0dCIV\n",
      "From (redirected): https://drive.google.com/uc?id=1zzMlKIMcinhAI8TsLq6CnABen3n0dCIV&confirm=t&uuid=48611190-aae7-4778-9d2b-4aa6db5d4af2\n",
      "To: C:\\Users\\DIKSHANT PATEL\\Kidney-Disease-Classification\\artifacts\\data_ingestion\\data.zip\n",
      "100%|██████████| 1.63G/1.63G [03:46<00:00, 7.19MB/s]"
     ]
    },
    {
     "name": "stdout",
     "output_type": "stream",
     "text": [
      "[2025-03-29 14:41:50,045: INFO: 856075502: Downloaded data successfully to artifacts/data_ingestion/data.zip]\n"
     ]
    },
    {
     "name": "stderr",
     "output_type": "stream",
     "text": [
      "\n",
      "--- Logging error ---\n",
      "Traceback (most recent call last):\n",
      "  File \"C:\\python\\lib\\logging\\__init__.py\", line 1086, in emit\n",
      "    stream.write(msg + self.terminator)\n",
      "  File \"C:\\python\\lib\\encodings\\cp1252.py\", line 19, in encode\n",
      "    return codecs.charmap_encode(input,self.errors,encoding_table)[0]\n",
      "UnicodeEncodeError: 'charmap' codec can't encode character '\\u2705' in position 43: character maps to <undefined>\n",
      "Call stack:\n"
     ]
    },
    {
     "name": "stdout",
     "output_type": "stream",
     "text": [
      "[2025-03-29 14:42:07,784: INFO: 856075502: ✅ Successfully extracted files to artifacts/data_ingestion]\n"
     ]
    },
    {
     "name": "stderr",
     "output_type": "stream",
     "text": [
      "  File \"C:\\python\\lib\\runpy.py\", line 197, in _run_module_as_main\n",
      "    return _run_code(code, main_globals, None,\n",
      "  File \"C:\\python\\lib\\runpy.py\", line 87, in _run_code\n",
      "    exec(code, run_globals)\n",
      "  File \"C:\\Users\\DIKSHANT PATEL\\PycharmProjects\\Kidney-Disease-Classification\\.venv\\lib\\site-packages\\ipykernel_launcher.py\", line 17, in <module>\n",
      "    app.launch_new_instance()\n",
      "  File \"C:\\Users\\DIKSHANT PATEL\\PycharmProjects\\Kidney-Disease-Classification\\.venv\\lib\\site-packages\\traitlets\\config\\application.py\", line 1043, in launch_instance\n",
      "    app.start()\n",
      "  File \"C:\\Users\\DIKSHANT PATEL\\PycharmProjects\\Kidney-Disease-Classification\\.venv\\lib\\site-packages\\ipykernel\\kernelapp.py\", line 736, in start\n",
      "    self.io_loop.start()\n",
      "  File \"C:\\Users\\DIKSHANT PATEL\\PycharmProjects\\Kidney-Disease-Classification\\.venv\\lib\\site-packages\\tornado\\platform\\asyncio.py\", line 205, in start\n",
      "    self.asyncio_loop.run_forever()\n",
      "  File \"C:\\python\\lib\\asyncio\\base_events.py\", line 601, in run_forever\n",
      "    self._run_once()\n",
      "  File \"C:\\python\\lib\\asyncio\\base_events.py\", line 1905, in _run_once\n",
      "    handle._run()\n",
      "  File \"C:\\python\\lib\\asyncio\\events.py\", line 80, in _run\n",
      "    self._context.run(self._callback, *self._args)\n",
      "  File \"C:\\Users\\DIKSHANT PATEL\\PycharmProjects\\Kidney-Disease-Classification\\.venv\\lib\\site-packages\\ipykernel\\kernelbase.py\", line 516, in dispatch_queue\n",
      "    await self.process_one()\n",
      "  File \"C:\\Users\\DIKSHANT PATEL\\PycharmProjects\\Kidney-Disease-Classification\\.venv\\lib\\site-packages\\ipykernel\\kernelbase.py\", line 505, in process_one\n",
      "    await dispatch(*args)\n",
      "  File \"C:\\Users\\DIKSHANT PATEL\\PycharmProjects\\Kidney-Disease-Classification\\.venv\\lib\\site-packages\\ipykernel\\kernelbase.py\", line 412, in dispatch_shell\n",
      "    await result\n",
      "  File \"C:\\Users\\DIKSHANT PATEL\\PycharmProjects\\Kidney-Disease-Classification\\.venv\\lib\\site-packages\\ipykernel\\kernelbase.py\", line 740, in execute_request\n",
      "    reply_content = await reply_content\n",
      "  File \"C:\\Users\\DIKSHANT PATEL\\PycharmProjects\\Kidney-Disease-Classification\\.venv\\lib\\site-packages\\ipykernel\\ipkernel.py\", line 422, in do_execute\n",
      "    res = shell.run_cell(\n",
      "  File \"C:\\Users\\DIKSHANT PATEL\\PycharmProjects\\Kidney-Disease-Classification\\.venv\\lib\\site-packages\\ipykernel\\zmqshell.py\", line 546, in run_cell\n",
      "    return super().run_cell(*args, **kwargs)\n",
      "  File \"C:\\Users\\DIKSHANT PATEL\\PycharmProjects\\Kidney-Disease-Classification\\.venv\\lib\\site-packages\\IPython\\core\\interactiveshell.py\", line 3009, in run_cell\n",
      "    result = self._run_cell(\n",
      "  File \"C:\\Users\\DIKSHANT PATEL\\PycharmProjects\\Kidney-Disease-Classification\\.venv\\lib\\site-packages\\IPython\\core\\interactiveshell.py\", line 3064, in _run_cell\n",
      "    result = runner(coro)\n",
      "  File \"C:\\Users\\DIKSHANT PATEL\\PycharmProjects\\Kidney-Disease-Classification\\.venv\\lib\\site-packages\\IPython\\core\\async_helpers.py\", line 129, in _pseudo_sync_runner\n",
      "    coro.send(None)\n",
      "  File \"C:\\Users\\DIKSHANT PATEL\\PycharmProjects\\Kidney-Disease-Classification\\.venv\\lib\\site-packages\\IPython\\core\\interactiveshell.py\", line 3269, in run_cell_async\n",
      "    has_raised = await self.run_ast_nodes(code_ast.body, cell_name,\n",
      "  File \"C:\\Users\\DIKSHANT PATEL\\PycharmProjects\\Kidney-Disease-Classification\\.venv\\lib\\site-packages\\IPython\\core\\interactiveshell.py\", line 3448, in run_ast_nodes\n",
      "    if await self.run_code(code, result, async_=asy):\n",
      "  File \"C:\\Users\\DIKSHANT PATEL\\PycharmProjects\\Kidney-Disease-Classification\\.venv\\lib\\site-packages\\IPython\\core\\interactiveshell.py\", line 3508, in run_code\n",
      "    exec(code_obj, self.user_global_ns, self.user_ns)\n",
      "  File \"C:\\Users\\DIKSHANT PATEL\\AppData\\Local\\Temp\\ipykernel_13816\\3116678718.py\", line 6, in <module>\n",
      "    data_ingestion.extract_zip_file()\n",
      "  File \"C:\\Users\\DIKSHANT PATEL\\AppData\\Local\\Temp\\ipykernel_13816\\856075502.py\", line 42, in extract_zip_file\n",
      "    logger.info(f\"✅ Successfully extracted files to {unzip_path}\")\n",
      "Message: '✅ Successfully extracted files to artifacts/data_ingestion'\n",
      "Arguments: ()\n"
     ]
    }
   ],
   "execution_count": 34
  },
  {
   "metadata": {
    "ExecuteTime": {
     "end_time": "2025-03-29T12:57:39.293922Z",
     "start_time": "2025-03-29T12:57:39.285920Z"
    }
   },
   "cell_type": "code",
   "source": "",
   "id": "b173905a3a6a3d06",
   "outputs": [],
   "execution_count": 27
  },
  {
   "metadata": {},
   "cell_type": "code",
   "outputs": [],
   "execution_count": null,
   "source": "",
   "id": "2e92f60f84c07345"
  }
 ],
 "metadata": {
  "kernelspec": {
   "display_name": "Python 3",
   "language": "python",
   "name": "python3"
  },
  "language_info": {
   "codemirror_mode": {
    "name": "ipython",
    "version": 2
   },
   "file_extension": ".py",
   "mimetype": "text/x-python",
   "name": "python",
   "nbconvert_exporter": "python",
   "pygments_lexer": "ipython2",
   "version": "2.7.6"
  }
 },
 "nbformat": 4,
 "nbformat_minor": 5
}
