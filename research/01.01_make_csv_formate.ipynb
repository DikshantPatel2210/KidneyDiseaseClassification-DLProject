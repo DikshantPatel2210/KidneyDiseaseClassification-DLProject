{
 "cells": [
  {
   "cell_type": "code",
   "id": "initial_id",
   "metadata": {
    "collapsed": true,
    "ExecuteTime": {
     "end_time": "2025-04-21T10:40:12.995013Z",
     "start_time": "2025-04-21T10:40:12.980593Z"
    }
   },
   "source": "import os",
   "outputs": [],
   "execution_count": 1
  },
  {
   "metadata": {
    "ExecuteTime": {
     "end_time": "2025-04-21T10:40:13.870144Z",
     "start_time": "2025-04-21T10:40:13.860148Z"
    }
   },
   "cell_type": "code",
   "source": "%pwd",
   "id": "5ff37a70eef78a2f",
   "outputs": [
    {
     "data": {
      "text/plain": [
       "'C:\\\\Users\\\\DIKSHANT PATEL\\\\Kidney-Disease-Classification\\\\research'"
      ]
     },
     "execution_count": 2,
     "metadata": {},
     "output_type": "execute_result"
    }
   ],
   "execution_count": 2
  },
  {
   "metadata": {
    "ExecuteTime": {
     "end_time": "2025-04-21T10:40:33.604838Z",
     "start_time": "2025-04-21T10:40:33.596835Z"
    }
   },
   "cell_type": "code",
   "source": "os.chdir(\"../.\")",
   "id": "d921fa26d6e4a72f",
   "outputs": [],
   "execution_count": 4
  },
  {
   "metadata": {
    "ExecuteTime": {
     "end_time": "2025-04-21T11:37:55.270972Z",
     "start_time": "2025-04-21T11:37:55.263973Z"
    }
   },
   "cell_type": "code",
   "source": "os.getcwd()",
   "id": "8a0dcc2f908f2d76",
   "outputs": [
    {
     "data": {
      "text/plain": [
       "'C:\\\\Users\\\\DIKSHANT PATEL\\\\Kidney-Disease-Classification'"
      ]
     },
     "execution_count": 28,
     "metadata": {},
     "output_type": "execute_result"
    }
   ],
   "execution_count": 28
  },
  {
   "metadata": {
    "ExecuteTime": {
     "end_time": "2025-04-21T11:38:02.761944Z",
     "start_time": "2025-04-21T11:38:02.750114Z"
    }
   },
   "cell_type": "code",
   "source": [
    "from cnnClassifier.constants import *\n",
    "from cnnClassifier.utils.common import read_yaml, create_directories"
   ],
   "id": "5021a525ad99ab39",
   "outputs": [],
   "execution_count": 30
  },
  {
   "metadata": {
    "ExecuteTime": {
     "end_time": "2025-04-21T11:55:57.070914Z",
     "start_time": "2025-04-21T11:55:57.061913Z"
    }
   },
   "cell_type": "code",
   "source": [
    "from dataclasses import dataclass\n",
    "from pathlib import Path\n",
    "\n",
    "@dataclass(frozen = True)\n",
    "class MakeDataCSVConfig:\n",
    "    root_dir: Path\n",
    "    base_csv_file: Path\n",
    "    source_file_path: Path"
   ],
   "id": "674468b217b08b83",
   "outputs": [],
   "execution_count": 35
  },
  {
   "metadata": {
    "ExecuteTime": {
     "end_time": "2025-04-21T11:55:57.335887Z",
     "start_time": "2025-04-21T11:55:57.325889Z"
    }
   },
   "cell_type": "code",
   "source": [
    "class ConfigurationManager:\n",
    "    def __init__(self, config_filepath = CONFIG_FILE_PATH):\n",
    "        self.config = read_yaml(config_filepath)\n",
    "    def get_make_data_csv_config(self) -> MakeDataCSVConfig:\n",
    "        config = self.config.make_data_csv\n",
    "        \n",
    "        create_directories([config.root_dir])\n",
    "        make_data_csv_config = MakeDataCSVConfig(\n",
    "            root_dir = config.root_dir,\n",
    "            base_csv_file = config.base_csv_file,\n",
    "            source_file_path = config.source_file_path,\n",
    "        )\n",
    "     \n",
    "        return make_data_csv_config\n",
    "    \n",
    "    "
   ],
   "id": "a6990b24a4040d05",
   "outputs": [],
   "execution_count": 36
  },
  {
   "metadata": {
    "ExecuteTime": {
     "end_time": "2025-04-21T11:55:57.645495Z",
     "start_time": "2025-04-21T11:55:57.636500Z"
    }
   },
   "cell_type": "code",
   "source": [
    "import pandas as pd\n",
    "from cnnClassifier import logger\n",
    "import os"
   ],
   "id": "cc15296f2a90d2d4",
   "outputs": [],
   "execution_count": 37
  },
  {
   "metadata": {
    "ExecuteTime": {
     "end_time": "2025-04-21T15:00:27.103470Z",
     "start_time": "2025-04-21T15:00:27.079206Z"
    }
   },
   "cell_type": "code",
   "source": [
    "class make_data_csvformat:\n",
    "    def __init__(self, config: MakeDataCSVConfig ):\n",
    "        self.config = config\n",
    "    def convert_csv(self):\n",
    "        try:\n",
    "            classes = os.listdir(self.config.source_file_path)\n",
    "            data = []\n",
    "            for label in classes:\n",
    "                folder_path = os.path.join(self.config.source_file_path,label)\n",
    "                for file in os.listdir(folder_path):\n",
    "                    file_path = os.path.join(folder_path, file)\n",
    "                    data.append((file_path, label))\n",
    "            self.df = pd.DataFrame(data, columns = ['filepath', 'label'])\n",
    "            logger.info(f\"DataFrame successfully created with shape: {self.df.shape}\")\n",
    "        except Exception as e:\n",
    "            raise Exception(f\"Error in making CSV file: {e}\")\n",
    "    \n",
    "    def save_dataframe_to_csv(self, index: bool = False):\n",
    "        try: \n",
    "            filepath = Path(self.config.base_csv_file)\n",
    "            filepath.parent.mkdir(parents=True, exist_ok=True)\n",
    "            self.df.to_csv(filepath, index=index)\n",
    "            logger.info(f\"CSV file saved at: {filepath}\")\n",
    "        except Exception as e:\n",
    "            raise Exception(f\"Error in downloading file: {e}\")\n",
    "    "
   ],
   "id": "9c707fcc591b2340",
   "outputs": [],
   "execution_count": 41
  },
  {
   "metadata": {
    "ExecuteTime": {
     "end_time": "2025-04-21T15:00:28.053605Z",
     "start_time": "2025-04-21T15:00:27.873607Z"
    }
   },
   "cell_type": "code",
   "source": [
    "try:\n",
    "    config = ConfigurationManager()\n",
    "    make_data_csv_config = config.get_make_data_csv_config()\n",
    "    make_data_CSVformat =  make_data_csvformat(config = make_data_csv_config)\n",
    "    make_data_CSVformat.convert_csv()\n",
    "    make_data_CSVformat.save_dataframe_to_csv()\n",
    "except Exception as e:\n",
    "    raise e\n",
    "    \n",
    "    "
   ],
   "id": "2e793c7eb040a790",
   "outputs": [
    {
     "name": "stdout",
     "output_type": "stream",
     "text": [
      "[2025-04-21 17:00:27,881: INFO: common: yaml file: config\\config.yaml loaded successfully]\n",
      "[2025-04-21 17:00:27,882: INFO: common: created directory at: artifacts/data_preprocessing]\n",
      "[2025-04-21 17:00:27,976: INFO: 2001434621: DataFrame successfully created with shape: (12446, 2)]\n",
      "[2025-04-21 17:00:28,041: INFO: 2001434621: CSV file saved at: artifacts\\data_preprocessing\\Data.csv]\n"
     ]
    }
   ],
   "execution_count": 42
  },
  {
   "metadata": {},
   "cell_type": "code",
   "outputs": [],
   "execution_count": null,
   "source": "",
   "id": "f371ef643c07fbe5"
  }
 ],
 "metadata": {
  "kernelspec": {
   "display_name": "Python 3",
   "language": "python",
   "name": "python3"
  },
  "language_info": {
   "codemirror_mode": {
    "name": "ipython",
    "version": 2
   },
   "file_extension": ".py",
   "mimetype": "text/x-python",
   "name": "python",
   "nbconvert_exporter": "python",
   "pygments_lexer": "ipython2",
   "version": "2.7.6"
  }
 },
 "nbformat": 4,
 "nbformat_minor": 5
}
